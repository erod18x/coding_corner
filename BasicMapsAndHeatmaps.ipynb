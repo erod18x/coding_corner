{
 "cells": [
  {
   "cell_type": "code",
   "execution_count": 81,
   "metadata": {},
   "outputs": [],
   "source": [
    "import pandas as pd\n",
    "import matplotlib.pyplot as plt\n",
    "import folium\n",
    "from folium.plugins import HeatMap"
   ]
  },
  {
   "cell_type": "code",
   "execution_count": 83,
   "metadata": {},
   "outputs": [
    {
     "data": {
      "text/html": [
       "<div>\n",
       "<style scoped>\n",
       "    .dataframe tbody tr th:only-of-type {\n",
       "        vertical-align: middle;\n",
       "    }\n",
       "\n",
       "    .dataframe tbody tr th {\n",
       "        vertical-align: top;\n",
       "    }\n",
       "\n",
       "    .dataframe thead th {\n",
       "        text-align: right;\n",
       "    }\n",
       "</style>\n",
       "<table border=\"1\" class=\"dataframe\">\n",
       "  <thead>\n",
       "    <tr style=\"text-align: right;\">\n",
       "      <th></th>\n",
       "      <th>FullName</th>\n",
       "      <th>Age</th>\n",
       "      <th>DateFirstSymptoms</th>\n",
       "      <th>ActivityPriorToIllness</th>\n",
       "      <th>IllnessSymptoms</th>\n",
       "      <th>DateOfDeath</th>\n",
       "      <th>CauseOfDeath</th>\n",
       "      <th>LocationName</th>\n",
       "      <th>LocatationLat</th>\n",
       "      <th>LocationLng</th>\n",
       "      <th>AutopsyPerformed</th>\n",
       "      <th>ResultsOfAutopsyReleased</th>\n",
       "      <th>Hometown</th>\n",
       "      <th>Notes</th>\n",
       "    </tr>\n",
       "  </thead>\n",
       "  <tbody>\n",
       "    <tr>\n",
       "      <th>0</th>\n",
       "      <td>Khalid Adkins</td>\n",
       "      <td>46.0</td>\n",
       "      <td>2019-06-23</td>\n",
       "      <td>NaN</td>\n",
       "      <td>Profusely sweating; Vomiting; Leg Swelling</td>\n",
       "      <td>2019-6-25</td>\n",
       "      <td>Kidney Failure</td>\n",
       "      <td>NaN</td>\n",
       "      <td>NaN</td>\n",
       "      <td>NaN</td>\n",
       "      <td>NaN</td>\n",
       "      <td>NaN</td>\n",
       "      <td>Denver, CO</td>\n",
       "      <td>NaN</td>\n",
       "    </tr>\n",
       "    <tr>\n",
       "      <th>1</th>\n",
       "      <td>Susan Simoneaux</td>\n",
       "      <td>59.0</td>\n",
       "      <td>2019-05-24</td>\n",
       "      <td>Honey moon in Dominican Republic</td>\n",
       "      <td>Difficulty Breathing</td>\n",
       "      <td>2018-6-19</td>\n",
       "      <td>NaN</td>\n",
       "      <td>NaN</td>\n",
       "      <td>NaN</td>\n",
       "      <td>NaN</td>\n",
       "      <td>NaN</td>\n",
       "      <td>NaN</td>\n",
       "      <td>LA</td>\n",
       "      <td>Died one week after returning</td>\n",
       "    </tr>\n",
       "    <tr>\n",
       "      <th>2</th>\n",
       "      <td>Vittorio Caruso</td>\n",
       "      <td>56.0</td>\n",
       "      <td>2019-06-11</td>\n",
       "      <td>Drinking from minibar</td>\n",
       "      <td>Coughing; Shortness of Breath; Respiratory dis...</td>\n",
       "      <td>2019-6-17</td>\n",
       "      <td>Heart Attack; Respiratory Failure</td>\n",
       "      <td>Boca Chica Village (not resort)</td>\n",
       "      <td>18.451602</td>\n",
       "      <td>-69.615992</td>\n",
       "      <td>NaN</td>\n",
       "      <td>NaN</td>\n",
       "      <td>Long Island, NY</td>\n",
       "      <td>NaN</td>\n",
       "    </tr>\n",
       "    <tr>\n",
       "      <th>3</th>\n",
       "      <td>Joseph Allen</td>\n",
       "      <td>55.0</td>\n",
       "      <td>NaN</td>\n",
       "      <td>Swimming</td>\n",
       "      <td>Pungent smell; unable to speak; upset stomach</td>\n",
       "      <td>2019-6-13</td>\n",
       "      <td>Heart Attack; Pulmonary Edema</td>\n",
       "      <td>Terra Linda Resort</td>\n",
       "      <td>19.765169</td>\n",
       "      <td>-70.517003</td>\n",
       "      <td>1.0</td>\n",
       "      <td>0.0</td>\n",
       "      <td>NJ</td>\n",
       "      <td>Prior heart issues that include hardening of t...</td>\n",
       "    </tr>\n",
       "    <tr>\n",
       "      <th>4</th>\n",
       "      <td>Leyla Cox</td>\n",
       "      <td>53.0</td>\n",
       "      <td>NaN</td>\n",
       "      <td>NaN</td>\n",
       "      <td>NaN</td>\n",
       "      <td>2019-6-11</td>\n",
       "      <td>Heart Attack</td>\n",
       "      <td>Excellence Punta Cana</td>\n",
       "      <td>18.820204</td>\n",
       "      <td>-68.602992</td>\n",
       "      <td>NaN</td>\n",
       "      <td>0.0</td>\n",
       "      <td>Staten Island, NY</td>\n",
       "      <td>felt unwell and was taken to the hospital. But...</td>\n",
       "    </tr>\n",
       "  </tbody>\n",
       "</table>\n",
       "</div>"
      ],
      "text/plain": [
       "          FullName   Age DateFirstSymptoms            ActivityPriorToIllness  \\\n",
       "0    Khalid Adkins  46.0        2019-06-23                               NaN   \n",
       "1  Susan Simoneaux  59.0        2019-05-24  Honey moon in Dominican Republic   \n",
       "2  Vittorio Caruso  56.0        2019-06-11             Drinking from minibar   \n",
       "3     Joseph Allen  55.0               NaN                          Swimming   \n",
       "4        Leyla Cox  53.0               NaN                               NaN   \n",
       "\n",
       "                                     IllnessSymptoms DateOfDeath  \\\n",
       "0         Profusely sweating; Vomiting; Leg Swelling   2019-6-25   \n",
       "1                               Difficulty Breathing   2018-6-19   \n",
       "2  Coughing; Shortness of Breath; Respiratory dis...   2019-6-17   \n",
       "3      Pungent smell; unable to speak; upset stomach   2019-6-13   \n",
       "4                                                NaN   2019-6-11   \n",
       "\n",
       "                        CauseOfDeath                     LocationName  \\\n",
       "0                     Kidney Failure                              NaN   \n",
       "1                                NaN                              NaN   \n",
       "2  Heart Attack; Respiratory Failure  Boca Chica Village (not resort)   \n",
       "3      Heart Attack; Pulmonary Edema              Terra Linda Resort    \n",
       "4                       Heart Attack            Excellence Punta Cana   \n",
       "\n",
       "   LocatationLat  LocationLng  AutopsyPerformed  ResultsOfAutopsyReleased  \\\n",
       "0            NaN          NaN               NaN                       NaN   \n",
       "1            NaN          NaN               NaN                       NaN   \n",
       "2      18.451602   -69.615992               NaN                       NaN   \n",
       "3      19.765169   -70.517003               1.0                       0.0   \n",
       "4      18.820204   -68.602992               NaN                       0.0   \n",
       "\n",
       "            Hometown                                              Notes  \n",
       "0         Denver, CO                                                NaN  \n",
       "1                 LA                      Died one week after returning  \n",
       "2    Long Island, NY                                                NaN  \n",
       "3                 NJ  Prior heart issues that include hardening of t...  \n",
       "4  Staten Island, NY  felt unwell and was taken to the hospital. But...  "
      ]
     },
     "execution_count": 83,
     "metadata": {},
     "output_type": "execute_result"
    }
   ],
   "source": [
    "df = pd.read_csv('dominican_republic_casualities.csv')\n",
    "df.head()"
   ]
  },
  {
   "cell_type": "code",
   "execution_count": 49,
   "metadata": {},
   "outputs": [
    {
     "data": {
      "text/plain": [
       "Index(['FullName', 'Age', 'DateFirstSymptoms', 'ActivityPriorToIllness',\n",
       "       'IllnessSymptoms', 'DateOfDeath', 'CauseOfDeath', 'LocationName',\n",
       "       'LocatationLat', 'LocationLng', 'AutopsyPerformed',\n",
       "       'ResultsOfAutopsyReleased', 'Hometown', 'Notes'],\n",
       "      dtype='object')"
      ]
     },
     "execution_count": 49,
     "metadata": {},
     "output_type": "execute_result"
    }
   ],
   "source": [
    "df.columns"
   ]
  },
  {
   "cell_type": "code",
   "execution_count": 50,
   "metadata": {},
   "outputs": [
    {
     "data": {
      "text/plain": [
       "array(['Profusely sweating; Vomiting; Leg Swelling',\n",
       "       'Difficulty Breathing',\n",
       "       'Coughing; Shortness of Breath; Respiratory distress; Chest pain',\n",
       "       'Pungent smell; unable to speak; upset stomach', nan,\n",
       "       'Severely ill', 'Severely ill; blood in stool in urine',\n",
       "       'Vomiting', 'Unable to talk; sit up',\n",
       "       'Feeling ill; severe headache', 'Felt Ill',\n",
       "       'Vomiting; Diarrhea; Stomach ache; Unconscious', 'Vomited Blood',\n",
       "       'Drooling excessively; profusely sweating'], dtype=object)"
      ]
     },
     "execution_count": 50,
     "metadata": {},
     "output_type": "execute_result"
    }
   ],
   "source": [
    "df['IllnessSymptoms'].unique()"
   ]
  },
  {
   "cell_type": "code",
   "execution_count": 101,
   "metadata": {},
   "outputs": [
    {
     "data": {
      "text/plain": [
       "<matplotlib.axes._subplots.AxesSubplot at 0x125a25ac8>"
      ]
     },
     "execution_count": 101,
     "metadata": {},
     "output_type": "execute_result"
    },
    {
     "data": {
      "image/png": "[encoded data removed]",
      "text/plain": [
       "<Figure size 432x288 with 1 Axes>"
      ]
     },
     "metadata": {
      "needs_background": "light"
     },
     "output_type": "display_data"
    }
   ],
   "source": [
    "plt.figure()\n",
    "df[\"Age\"].plot(kind=\"bar\")"
   ]
  },
  {
   "cell_type": "code",
   "execution_count": 104,
   "metadata": {},
   "outputs": [],
   "source": [
    "def generateBaseMap(default_location=[18.4800103,-70.0170515], default_zoom_start=6):\n",
    "    base_map = folium.Map(location=default_location, control_scale=True, zoom_start=default_zoom_start)\n",
    "    return base_map"
   ]
  },
  {
   "cell_type": "code",
   "execution_count": 105,
   "metadata": {},
   "outputs": [
    {
     "data": {
      "text/html": [
       "<div style=\"width:100%;\"><div style=\"position:relative;width:100%;height:0;padding-bottom:60%;\"><iframe src=\"data:text/html;charset=utf-8;base64,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\" style=\"position:absolute;width:100%;height:100%;left:0;top:0;border:none !important;\" allowfullscreen webkitallowfullscreen mozallowfullscreen></iframe></div></div>"
      ],
      "text/plain": [
       "<folium.folium.Map at 0x12481a320>"
      ]
     },
     "execution_count": 105,
     "metadata": {},
     "output_type": "execute_result"
    }
   ],
   "source": [
    "base_map = generateBaseMap()\n",
    "base_map"
   ]
  },
  {
   "cell_type": "code",
   "execution_count": null,
   "metadata": {},
   "outputs": [],
   "source": []
  },
  {
   "cell_type": "code",
   "execution_count": 123,
   "metadata": {
    "scrolled": true
   },
   "outputs": [
    {
     "data": {
      "text/html": [
       "<div style=\"width:100%;\"><div style=\"position:relative;width:100%;height:0;padding-bottom:60%;\"><iframe src=\"data:text/html;charset=utf-8;base64,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\" style=\"position:absolute;width:100%;height:100%;left:0;top:0;border:none !important;\" allowfullscreen webkitallowfullscreen mozallowfullscreen></iframe></div></div>"
      ],
      "text/plain": [
       "<folium.folium.Map at 0x124c3feb8>"
      ]
     },
     "execution_count": 123,
     "metadata": {},
     "output_type": "execute_result"
    }
   ],
   "source": [
    "base_map = generateBaseMap()\n",
    "HeatMap(data=df[['LocatationLat', 'LocationLng']].groupby(['LocatationLat', 'LocationLng']).sum().reset_index().values.tolist(), radius=8, max_zoom=13).add_to(base_map)\n",
    "\n",
    "base_map"
   ]
  },
  {
   "cell_type": "code",
   "execution_count": 124,
   "metadata": {},
   "outputs": [
    {
     "data": {
      "text/html": [
       "<div style=\"width:100%;\"><div style=\"position:relative;width:100%;height:0;padding-bottom:60%;\"><iframe src=\"data:text/html;charset=utf-8;base64,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\" style=\"position:absolute;width:100%;height:100%;left:0;top:0;border:none !important;\" allowfullscreen webkitallowfullscreen mozallowfullscreen></iframe></div></div>"
      ],
      "text/plain": [
       "<folium.folium.Map at 0x124c2b780>"
      ]
     },
     "execution_count": 124,
     "metadata": {},
     "output_type": "execute_result"
    }
   ],
   "source": [
    "base_map = generateBaseMap()\n",
    "HeatMap(data=df[['LocatationLat', 'LocationLng']].groupby(['LocatationLat', 'LocationLng']).sum().reset_index().values.tolist(), radius=8, max_zoom=13).add_to(base_map)\n",
    "\n",
    "folium.Marker([18.451602, -69.615992], popup='Boca Chica Village').add_to(base_map)\n",
    "folium.Marker([19.765169, -70.517003], popup='Terra Linda Resort').add_to(base_map)\n",
    "\n",
    "base_map"
   ]
  },
  {
   "cell_type": "code",
   "execution_count": 125,
   "metadata": {},
   "outputs": [
    {
     "data": {
      "text/html": [
       "<div>\n",
       "<style scoped>\n",
       "    .dataframe tbody tr th:only-of-type {\n",
       "        vertical-align: middle;\n",
       "    }\n",
       "\n",
       "    .dataframe tbody tr th {\n",
       "        vertical-align: top;\n",
       "    }\n",
       "\n",
       "    .dataframe thead th {\n",
       "        text-align: right;\n",
       "    }\n",
       "</style>\n",
       "<table border=\"1\" class=\"dataframe\">\n",
       "  <thead>\n",
       "    <tr style=\"text-align: right;\">\n",
       "      <th></th>\n",
       "      <th>LocationName</th>\n",
       "      <th>LocatationLat</th>\n",
       "      <th>LocationLng</th>\n",
       "    </tr>\n",
       "  </thead>\n",
       "  <tbody>\n",
       "    <tr>\n",
       "      <th>2</th>\n",
       "      <td>Boca Chica Village (not resort)</td>\n",
       "      <td>18.451602</td>\n",
       "      <td>-69.615992</td>\n",
       "    </tr>\n",
       "    <tr>\n",
       "      <th>3</th>\n",
       "      <td>Terra Linda Resort</td>\n",
       "      <td>19.765169</td>\n",
       "      <td>-70.517003</td>\n",
       "    </tr>\n",
       "    <tr>\n",
       "      <th>4</th>\n",
       "      <td>Excellence Punta Cana</td>\n",
       "      <td>18.820204</td>\n",
       "      <td>-68.602992</td>\n",
       "    </tr>\n",
       "    <tr>\n",
       "      <th>5</th>\n",
       "      <td>Playa Nueva Romana Hotel</td>\n",
       "      <td>18.434173</td>\n",
       "      <td>-69.200235</td>\n",
       "    </tr>\n",
       "    <tr>\n",
       "      <th>6</th>\n",
       "      <td>Playa Nueva Romana Hotel</td>\n",
       "      <td>18.434173</td>\n",
       "      <td>-69.200235</td>\n",
       "    </tr>\n",
       "    <tr>\n",
       "      <th>7</th>\n",
       "      <td>Luxury Bahia Principe Bouganville</td>\n",
       "      <td>18.434173</td>\n",
       "      <td>-69.193669</td>\n",
       "    </tr>\n",
       "    <tr>\n",
       "      <th>9</th>\n",
       "      <td>Hard Rock Hotel &amp; Casino in Punta Cana</td>\n",
       "      <td>18.733367</td>\n",
       "      <td>-68.484937</td>\n",
       "    </tr>\n",
       "    <tr>\n",
       "      <th>10</th>\n",
       "      <td>Dreams Resort Punta Cana</td>\n",
       "      <td>18.803896</td>\n",
       "      <td>-68.576480</td>\n",
       "    </tr>\n",
       "    <tr>\n",
       "      <th>11</th>\n",
       "      <td>Bahia Principe Resort in Punta Canana</td>\n",
       "      <td>18.724676</td>\n",
       "      <td>-68.467651</td>\n",
       "    </tr>\n",
       "    <tr>\n",
       "      <th>12</th>\n",
       "      <td>Hard Rock Hotel &amp; Casino in Punta Cana</td>\n",
       "      <td>18.733367</td>\n",
       "      <td>-68.484937</td>\n",
       "    </tr>\n",
       "    <tr>\n",
       "      <th>13</th>\n",
       "      <td>Bahia Principe in Punta Cana</td>\n",
       "      <td>18.724676</td>\n",
       "      <td>-68.467651</td>\n",
       "    </tr>\n",
       "    <tr>\n",
       "      <th>14</th>\n",
       "      <td>Villa Cocotal Palma Resort</td>\n",
       "      <td>18.666210</td>\n",
       "      <td>-68.428962</td>\n",
       "    </tr>\n",
       "    <tr>\n",
       "      <th>15</th>\n",
       "      <td>Excellence resort in Punta Cana</td>\n",
       "      <td>18.820204</td>\n",
       "      <td>-68.602992</td>\n",
       "    </tr>\n",
       "    <tr>\n",
       "      <th>16</th>\n",
       "      <td>(former) Sunscape Bávaro Beach Punta Cana</td>\n",
       "      <td>18.688661</td>\n",
       "      <td>-68.419680</td>\n",
       "    </tr>\n",
       "    <tr>\n",
       "      <th>17</th>\n",
       "      <td>Nickelodeon Resort</td>\n",
       "      <td>18.800243</td>\n",
       "      <td>-68.576620</td>\n",
       "    </tr>\n",
       "    <tr>\n",
       "      <th>18</th>\n",
       "      <td>Bahia Principe Resort in Punta Canana</td>\n",
       "      <td>18.724676</td>\n",
       "      <td>-68.467651</td>\n",
       "    </tr>\n",
       "    <tr>\n",
       "      <th>19</th>\n",
       "      <td>Grand Bahia Principe la Romana</td>\n",
       "      <td>18.435547</td>\n",
       "      <td>-69.192087</td>\n",
       "    </tr>\n",
       "  </tbody>\n",
       "</table>\n",
       "</div>"
      ],
      "text/plain": [
       "                                 LocationName  LocatationLat  LocationLng\n",
       "2             Boca Chica Village (not resort)      18.451602   -69.615992\n",
       "3                         Terra Linda Resort       19.765169   -70.517003\n",
       "4                       Excellence Punta Cana      18.820204   -68.602992\n",
       "5                    Playa Nueva Romana Hotel      18.434173   -69.200235\n",
       "6                    Playa Nueva Romana Hotel      18.434173   -69.200235\n",
       "7           Luxury Bahia Principe Bouganville      18.434173   -69.193669\n",
       "9      Hard Rock Hotel & Casino in Punta Cana      18.733367   -68.484937\n",
       "10                   Dreams Resort Punta Cana      18.803896   -68.576480\n",
       "11      Bahia Principe Resort in Punta Canana      18.724676   -68.467651\n",
       "12     Hard Rock Hotel & Casino in Punta Cana      18.733367   -68.484937\n",
       "13               Bahia Principe in Punta Cana      18.724676   -68.467651\n",
       "14                 Villa Cocotal Palma Resort      18.666210   -68.428962\n",
       "15            Excellence resort in Punta Cana      18.820204   -68.602992\n",
       "16  (former) Sunscape Bávaro Beach Punta Cana      18.688661   -68.419680\n",
       "17                         Nickelodeon Resort      18.800243   -68.576620\n",
       "18      Bahia Principe Resort in Punta Canana      18.724676   -68.467651\n",
       "19             Grand Bahia Principe la Romana      18.435547   -69.192087"
      ]
     },
     "execution_count": 125,
     "metadata": {},
     "output_type": "execute_result"
    }
   ],
   "source": [
    "df_locations = df[['LocationName','LocatationLat','LocationLng']]\n",
    "locations = df_locations.dropna()\n",
    "\n",
    "locations"
   ]
  },
  {
   "cell_type": "code",
   "execution_count": null,
   "metadata": {},
   "outputs": [],
   "source": []
  }
 ],
 "metadata": {
  "kernelspec": {
   "display_name": "Python 3",
   "language": "python",
   "name": "python3"
  },
  "language_info": {
   "codemirror_mode": {
    "name": "ipython",
    "version": 3
   },
   "file_extension": ".py",
   "mimetype": "text/x-python",
   "name": "python",
   "nbconvert_exporter": "python",
   "pygments_lexer": "ipython3",
   "version": "3.6.8"
  }
 },
 "nbformat": 4,
 "nbformat_minor": 2
}
