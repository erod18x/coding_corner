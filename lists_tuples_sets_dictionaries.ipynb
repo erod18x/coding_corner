{
  "nbformat": 4,
  "nbformat_minor": 0,
  "metadata": {
    "colab": {
      "name": "lists-tuples-sets-dictionaries.ipynb",
      "version": "0.3.2",
      "provenance": [],
      "include_colab_link": true
    },
    "kernelspec": {
      "name": "python3",
      "display_name": "Python 3"
    }
  },
  "cells": [
    {
      "cell_type": "markdown",
      "metadata": {
        "id": "view-in-github",
        "colab_type": "text"
      },
      "source": [
        "<a href=\"https://colab.research.google.com/github/erodg35/coding_corner/blob/master/lists_tuples_sets_dictionaries.ipynb\" target=\"_parent\"><img src=\"https://colab.research.google.com/assets/colab-badge.svg\" alt=\"Open In Colab\"/></a>"
      ]
    },
    {
      "cell_type": "markdown",
      "metadata": {
        "id": "wEPKHgi0p4IY",
        "colab_type": "text"
      },
      "source": [
        "#Lists, Tuples, Sets, Dictionaries\n",
        "\n",
        "- List is a collection which is ordered and changeable. Allows duplicate members.\n",
        "- Tuple is a collection which is ordered and unchangeable. Allows duplicate members.\n",
        "- Set is a collection which is unordered and unindexed. No duplicate members.\n",
        "- Dictionary is a collection which is unordered, changeable and indexed. No duplicate members."
      ]
    },
    {
      "cell_type": "markdown",
      "metadata": {
        "id": "j7XdBW1UqAqL",
        "colab_type": "text"
      },
      "source": [
        "#Lists"
      ]
    },
    {
      "cell_type": "markdown",
      "metadata": {
        "id": "5-iEG8ZgpzLn",
        "colab_type": "text"
      },
      "source": [
        "A list is a collection which is ordered and changeable. In Python lists are written with square brackets."
      ]
    },
    {
      "cell_type": "code",
      "metadata": {
        "id": "Jr-23MJCqI4T",
        "colab_type": "code",
        "colab": {}
      },
      "source": [
        "simple_list = ['apples','bananas','oranges','grapes']"
      ],
      "execution_count": 0,
      "outputs": []
    },
    {
      "cell_type": "code",
      "metadata": {
        "id": "nc1mOGevqPHV",
        "colab_type": "code",
        "outputId": "96d9415a-ce03-44d3-f8d4-eb895f5d0a45",
        "colab": {
          "base_uri": "https://localhost:8080/",
          "height": 35
        }
      },
      "source": [
        "#Print all items in a list\n",
        "print(simple_list)"
      ],
      "execution_count": 0,
      "outputs": [
        {
          "output_type": "stream",
          "text": [
            "['apples', 'bananas', 'oranges', 'grapes']\n"
          ],
          "name": "stdout"
        }
      ]
    },
    {
      "cell_type": "code",
      "metadata": {
        "id": "owuToKxbqRmt",
        "colab_type": "code",
        "outputId": "1d9e06a7-ca2e-48f5-baba-3ee46445d980",
        "colab": {
          "base_uri": "https://localhost:8080/",
          "height": 35
        }
      },
      "source": [
        "#Check the length of a list\n",
        "print(len(simple_list))"
      ],
      "execution_count": 0,
      "outputs": [
        {
          "output_type": "stream",
          "text": [
            "4\n"
          ],
          "name": "stdout"
        }
      ]
    },
    {
      "cell_type": "code",
      "metadata": {
        "id": "NaVRcQlCqTL8",
        "colab_type": "code",
        "outputId": "baee63e2-6fd0-48a5-d05b-5bc01b19cabf",
        "colab": {
          "base_uri": "https://localhost:8080/",
          "height": 35
        }
      },
      "source": [
        "#Check if an item is in a list\n",
        "if 'apples' in simple_list:\n",
        "  print(\"Apples don't fall from trees\")\n",
        "else:\n",
        "  print(\"Johnny Appleseed was a failure\")"
      ],
      "execution_count": 0,
      "outputs": [
        {
          "output_type": "stream",
          "text": [
            "Apples don't fall from trees\n"
          ],
          "name": "stdout"
        }
      ]
    },
    {
      "cell_type": "code",
      "metadata": {
        "id": "di7KIlaGqZpM",
        "colab_type": "code",
        "outputId": "c72a2fbc-af16-41a9-9cda-7fafa5f78d98",
        "colab": {
          "base_uri": "https://localhost:8080/",
          "height": 87
        }
      },
      "source": [
        "#Loop through a list\n",
        "for fruit in simple_list:\n",
        "  print(\"I love to eat \" + fruit)"
      ],
      "execution_count": 0,
      "outputs": [
        {
          "output_type": "stream",
          "text": [
            "I love to eat apples\n",
            "I love to eat bananas\n",
            "I love to eat oranges\n",
            "I love to eat grapes\n"
          ],
          "name": "stdout"
        }
      ]
    },
    {
      "cell_type": "code",
      "metadata": {
        "id": "zGipUwGZqo8t",
        "colab_type": "code",
        "outputId": "4e4db722-2c4b-4bca-e415-0cf01d2dc0fe",
        "colab": {
          "base_uri": "https://localhost:8080/",
          "height": 69
        }
      },
      "source": [
        "#Access specific item in list\n",
        "print(simple_list[1])\n",
        "print(simple_list[:2])\n",
        "print(simple_list[-1])"
      ],
      "execution_count": 0,
      "outputs": [
        {
          "output_type": "stream",
          "text": [
            "bananas\n",
            "['apples', 'bananas']\n",
            "grapes\n"
          ],
          "name": "stdout"
        }
      ]
    },
    {
      "cell_type": "code",
      "metadata": {
        "id": "3LUWjijTra3p",
        "colab_type": "code",
        "outputId": "a2c8cb4a-31e2-4093-fed7-40e3dc025cad",
        "colab": {
          "base_uri": "https://localhost:8080/",
          "height": 52
        }
      },
      "source": [
        "#Add an item to a list\n",
        "simple_list.append(\"kiwis\")\n",
        "print(len(simple_list))\n",
        "print(simple_list)"
      ],
      "execution_count": 0,
      "outputs": [
        {
          "output_type": "stream",
          "text": [
            "5\n",
            "['apples', 'bananas', 'oranges', 'grapes', 'kiwis']\n"
          ],
          "name": "stdout"
        }
      ]
    },
    {
      "cell_type": "code",
      "metadata": {
        "id": "yYm2IByorubu",
        "colab_type": "code",
        "outputId": "2911688c-ad6d-4ddb-de5b-ebfe2f9c5656",
        "colab": {
          "base_uri": "https://localhost:8080/",
          "height": 52
        }
      },
      "source": [
        "veggies = ['carrots','cucumber']\n",
        "simple_list.append(veggies)\n",
        "print(len(simple_list))\n",
        "print(simple_list)"
      ],
      "execution_count": 0,
      "outputs": [
        {
          "output_type": "stream",
          "text": [
            "6\n",
            "['apples', 'bananas', 'oranges', 'grapes', 'kiwis', ['carrots', 'cucumber']]\n"
          ],
          "name": "stdout"
        }
      ]
    },
    {
      "cell_type": "code",
      "metadata": {
        "id": "3DO3K4BM2Qw0",
        "colab_type": "code",
        "colab": {}
      },
      "source": [
        "#Remove Item from a list\n",
        "simple_list.remove(veggies)"
      ],
      "execution_count": 0,
      "outputs": []
    },
    {
      "cell_type": "code",
      "metadata": {
        "id": "p2luAnLPsJVy",
        "colab_type": "code",
        "outputId": "1b33bd6f-118e-4c5b-c4b7-84340ac96d84",
        "colab": {
          "base_uri": "https://localhost:8080/",
          "height": 52
        }
      },
      "source": [
        "for veg in veggies:\n",
        "  simple_list.append(veg)\n",
        "  \n",
        "print(len(simple_list))\n",
        "print(simple_list)"
      ],
      "execution_count": 0,
      "outputs": [
        {
          "output_type": "stream",
          "text": [
            "7\n",
            "['apples', 'bananas', 'oranges', 'grapes', 'kiwis', 'carrots', 'cucumber']\n"
          ],
          "name": "stdout"
        }
      ]
    },
    {
      "cell_type": "code",
      "metadata": {
        "id": "uvby9g1msQf9",
        "colab_type": "code",
        "colab": {}
      },
      "source": [
        "simple_list.sort()"
      ],
      "execution_count": 0,
      "outputs": []
    },
    {
      "cell_type": "code",
      "metadata": {
        "id": "8o78qWAx2iyc",
        "colab_type": "code",
        "outputId": "5c2f3a2f-ec7e-44f4-d6c3-08457a2f7675",
        "colab": {
          "base_uri": "https://localhost:8080/",
          "height": 35
        }
      },
      "source": [
        "print(simple_list)"
      ],
      "execution_count": 0,
      "outputs": [
        {
          "output_type": "stream",
          "text": [
            "['apples', 'bananas', 'carrots', 'cucumber', 'grapes', 'kiwis', 'oranges']\n"
          ],
          "name": "stdout"
        }
      ]
    },
    {
      "cell_type": "code",
      "metadata": {
        "id": "ORRbYj_t31Tz",
        "colab_type": "code",
        "colab": {}
      },
      "source": [
        "simple_list.remove(\"carrots\")"
      ],
      "execution_count": 0,
      "outputs": []
    },
    {
      "cell_type": "code",
      "metadata": {
        "id": "yqJjYF84369O",
        "colab_type": "code",
        "outputId": "f9a53eb7-877c-4d84-c0b6-f645834ecfab",
        "colab": {
          "base_uri": "https://localhost:8080/",
          "height": 35
        }
      },
      "source": [
        "print(simple_list)"
      ],
      "execution_count": 0,
      "outputs": [
        {
          "output_type": "stream",
          "text": [
            "['apples', 'bananas', 'cucumber', 'grapes', 'kiwis', 'oranges']\n"
          ],
          "name": "stdout"
        }
      ]
    },
    {
      "cell_type": "markdown",
      "metadata": {
        "id": "DhvnsPMO4KBc",
        "colab_type": "text"
      },
      "source": [
        "##Tuples"
      ]
    },
    {
      "cell_type": "markdown",
      "metadata": {
        "id": "Vb0NBzfF4c1y",
        "colab_type": "text"
      },
      "source": [
        "A tuple is a collection which is ordered and unchangeable. In Python tuples are written with round brackets."
      ]
    },
    {
      "cell_type": "code",
      "metadata": {
        "id": "iSYa9raX4djM",
        "colab_type": "code",
        "outputId": "be3dd21a-58bf-475f-eca9-aa44abbb4115",
        "colab": {
          "base_uri": "https://localhost:8080/",
          "height": 35
        }
      },
      "source": [
        "simple_set = (\"apples\",\"bananas\",\"oranges\",\"apples\")\n",
        "\n",
        "print(simple_set)"
      ],
      "execution_count": 0,
      "outputs": [
        {
          "output_type": "stream",
          "text": [
            "('apples', 'bananas', 'oranges', 'apples')\n"
          ],
          "name": "stdout"
        }
      ]
    },
    {
      "cell_type": "code",
      "metadata": {
        "id": "ciAFhMYO4kHX",
        "colab_type": "code",
        "outputId": "d955e065-9175-4e5f-e518-e77302e94d01",
        "colab": {
          "base_uri": "https://localhost:8080/",
          "height": 35
        }
      },
      "source": [
        "print(len(simple_set))"
      ],
      "execution_count": 0,
      "outputs": [
        {
          "output_type": "stream",
          "text": [
            "4\n"
          ],
          "name": "stdout"
        }
      ]
    },
    {
      "cell_type": "code",
      "metadata": {
        "id": "42oOeEqK4mVk",
        "colab_type": "code",
        "outputId": "60b562ce-e822-4738-9a19-d0a97cc015c4",
        "colab": {
          "base_uri": "https://localhost:8080/",
          "height": 35
        }
      },
      "source": [
        "print(simple_set.count(\"apples\"))"
      ],
      "execution_count": 0,
      "outputs": [
        {
          "output_type": "stream",
          "text": [
            "2\n"
          ],
          "name": "stdout"
        }
      ]
    },
    {
      "cell_type": "code",
      "metadata": {
        "id": "pkRIKcC64q12",
        "colab_type": "code",
        "outputId": "38804824-70e7-4aa7-8b04-03cbefaca9a7",
        "colab": {
          "base_uri": "https://localhost:8080/",
          "height": 87
        }
      },
      "source": [
        "for fruit in simple_set:\n",
        "  print(fruit)"
      ],
      "execution_count": 0,
      "outputs": [
        {
          "output_type": "stream",
          "text": [
            "apples\n",
            "bananas\n",
            "oranges\n",
            "apples\n"
          ],
          "name": "stdout"
        }
      ]
    },
    {
      "cell_type": "code",
      "metadata": {
        "id": "wYsSpaSD5ppc",
        "colab_type": "code",
        "outputId": "9335faa4-f95d-4f71-a646-74e2d23b1004",
        "colab": {
          "base_uri": "https://localhost:8080/",
          "height": 35
        }
      },
      "source": [
        "print(simple_set[1])"
      ],
      "execution_count": 0,
      "outputs": [
        {
          "output_type": "stream",
          "text": [
            "bananas\n"
          ],
          "name": "stdout"
        }
      ]
    },
    {
      "cell_type": "code",
      "metadata": {
        "id": "gJfJod3_5z4n",
        "colab_type": "code",
        "colab": {}
      },
      "source": [
        ""
      ],
      "execution_count": 0,
      "outputs": []
    },
    {
      "cell_type": "markdown",
      "metadata": {
        "id": "KOlDzsQG5R1R",
        "colab_type": "text"
      },
      "source": [
        "##Sets"
      ]
    },
    {
      "cell_type": "markdown",
      "metadata": {
        "id": "LUpYE1kj6Wff",
        "colab_type": "text"
      },
      "source": [
        "A tuple is a collection which is ordered and unchangeable. In Python tuples are written with round brackets."
      ]
    },
    {
      "cell_type": "code",
      "metadata": {
        "id": "RC1NmvsI5TSE",
        "colab_type": "code",
        "outputId": "8a3e5f4c-4079-4304-edfe-3e09ae0436b8",
        "colab": {
          "base_uri": "https://localhost:8080/",
          "height": 35
        }
      },
      "source": [
        "simple_set = {'apples','bananas','oranges'}\n",
        "print(simple_set)"
      ],
      "execution_count": 0,
      "outputs": [
        {
          "output_type": "stream",
          "text": [
            "{'apples', 'bananas', 'oranges'}\n"
          ],
          "name": "stdout"
        }
      ]
    },
    {
      "cell_type": "code",
      "metadata": {
        "id": "RdcHT9lh5YYb",
        "colab_type": "code",
        "outputId": "185c6deb-858d-420e-ce8c-e18819d593bf",
        "colab": {
          "base_uri": "https://localhost:8080/",
          "height": 35
        }
      },
      "source": [
        "simple_set2 = {'apples','bananas','oranges','apples'}\n",
        "print(simple_set2)"
      ],
      "execution_count": 0,
      "outputs": [
        {
          "output_type": "stream",
          "text": [
            "{'apples', 'bananas', 'oranges'}\n"
          ],
          "name": "stdout"
        }
      ]
    },
    {
      "cell_type": "code",
      "metadata": {
        "id": "1T-T3CPT6aeR",
        "colab_type": "code",
        "outputId": "14ef07a7-1be1-4a69-f093-ecaed5e92a52",
        "colab": {
          "base_uri": "https://localhost:8080/",
          "height": 35
        }
      },
      "source": [
        "simple_set"
      ],
      "execution_count": 0,
      "outputs": [
        {
          "output_type": "execute_result",
          "data": {
            "text/plain": [
              "{'apples', 'bananas', 'oranges'}"
            ]
          },
          "metadata": {
            "tags": []
          },
          "execution_count": 23
        }
      ]
    },
    {
      "cell_type": "code",
      "metadata": {
        "id": "oT86kOIE6glU",
        "colab_type": "code",
        "outputId": "3e58a8cd-cb8c-46f0-e6ca-e467599a5b8f",
        "colab": {
          "base_uri": "https://localhost:8080/",
          "height": 35
        }
      },
      "source": [
        "simple_set.add('kiwi')\n",
        "print(simple_set)"
      ],
      "execution_count": 0,
      "outputs": [
        {
          "output_type": "stream",
          "text": [
            "{'apples', 'bananas', 'kiwi', 'oranges'}\n"
          ],
          "name": "stdout"
        }
      ]
    },
    {
      "cell_type": "code",
      "metadata": {
        "id": "8mKnlSwc6h2Q",
        "colab_type": "code",
        "outputId": "fda2f10e-50c3-46d6-d671-7b657433f205",
        "colab": {
          "base_uri": "https://localhost:8080/",
          "height": 35
        }
      },
      "source": [
        "simple_set.update([\"mango\", \"grapes\"])\n",
        "print(simple_set)"
      ],
      "execution_count": 0,
      "outputs": [
        {
          "output_type": "stream",
          "text": [
            "{'bananas', 'mango', 'grapes', 'oranges', 'kiwi', 'apples'}\n"
          ],
          "name": "stdout"
        }
      ]
    },
    {
      "cell_type": "code",
      "metadata": {
        "id": "LL0McY4J66fs",
        "colab_type": "code",
        "outputId": "a90256c7-5377-4ba6-9a3e-78bebdb4bdfe",
        "colab": {
          "base_uri": "https://localhost:8080/",
          "height": 35
        }
      },
      "source": [
        "simple_set.remove('kiwi')\n",
        "print(simple_set)"
      ],
      "execution_count": 0,
      "outputs": [
        {
          "output_type": "stream",
          "text": [
            "{'bananas', 'mango', 'grapes', 'oranges', 'apples'}\n"
          ],
          "name": "stdout"
        }
      ]
    },
    {
      "cell_type": "code",
      "metadata": {
        "id": "-ELkCNrtU-6f",
        "colab_type": "code",
        "colab": {}
      },
      "source": [
        "simple_set['bananas']"
      ],
      "execution_count": 0,
      "outputs": []
    },
    {
      "cell_type": "markdown",
      "metadata": {
        "id": "9PgVevfa7QxK",
        "colab_type": "text"
      },
      "source": [
        "##Dictionaries"
      ]
    },
    {
      "cell_type": "markdown",
      "metadata": {
        "id": "reCRahbh7UP2",
        "colab_type": "text"
      },
      "source": [
        "A dictionary is a collection which is unordered, changeable and indexed. In Python dictionaries are written with curly brackets, and they have keys and values."
      ]
    },
    {
      "cell_type": "code",
      "metadata": {
        "id": "ehWisA9u7VHo",
        "colab_type": "code",
        "colab": {}
      },
      "source": [
        "simple_dict = {\n",
        "    'class1' : 'Chemistry',\n",
        "    'class2' : 'Science',\n",
        "    'class3' : 'English'\n",
        "    }"
      ],
      "execution_count": 0,
      "outputs": []
    },
    {
      "cell_type": "code",
      "metadata": {
        "id": "wPSLDEdX7yP8",
        "colab_type": "code",
        "outputId": "cc79b30d-7716-4321-cdca-fb1ba48e1d71",
        "colab": {
          "base_uri": "https://localhost:8080/",
          "height": 35
        }
      },
      "source": [
        "print(simple_dict)"
      ],
      "execution_count": 0,
      "outputs": [
        {
          "output_type": "stream",
          "text": [
            "{'class1': 'Chemistry', 'class2': 'Science', 'class3': 'English'}\n"
          ],
          "name": "stdout"
        }
      ]
    },
    {
      "cell_type": "code",
      "metadata": {
        "id": "kDVFGL0v7za_",
        "colab_type": "code",
        "outputId": "98002315-deee-4047-99bb-8f05a798f493",
        "colab": {
          "base_uri": "https://localhost:8080/",
          "height": 35
        }
      },
      "source": [
        "print(simple_dict['class1'])"
      ],
      "execution_count": 0,
      "outputs": [
        {
          "output_type": "stream",
          "text": [
            "Chemistry\n"
          ],
          "name": "stdout"
        }
      ]
    },
    {
      "cell_type": "code",
      "metadata": {
        "id": "FW9TiIsl73Q2",
        "colab_type": "code",
        "colab": {}
      },
      "source": [
        "simple_dict['class3'] = 'Math'"
      ],
      "execution_count": 0,
      "outputs": []
    },
    {
      "cell_type": "code",
      "metadata": {
        "id": "-rAtva4i8Htc",
        "colab_type": "code",
        "outputId": "7c69e97a-4d13-4491-a953-ca53de3f4a3d",
        "colab": {
          "base_uri": "https://localhost:8080/",
          "height": 35
        }
      },
      "source": [
        "print(simple_dict)"
      ],
      "execution_count": 0,
      "outputs": [
        {
          "output_type": "stream",
          "text": [
            "{'class1': 'Chemistry', 'class2': 'Science', 'class3': 'Math'}\n"
          ],
          "name": "stdout"
        }
      ]
    },
    {
      "cell_type": "code",
      "metadata": {
        "id": "7J-xIBSA8I1D",
        "colab_type": "code",
        "outputId": "07d702fc-df19-4770-d3fe-cefe477960c4",
        "colab": {
          "base_uri": "https://localhost:8080/",
          "height": 35
        }
      },
      "source": [
        "simple_dict.keys()"
      ],
      "execution_count": 0,
      "outputs": [
        {
          "output_type": "execute_result",
          "data": {
            "text/plain": [
              "dict_keys(['class1', 'class2', 'class3'])"
            ]
          },
          "metadata": {
            "tags": []
          },
          "execution_count": 33
        }
      ]
    },
    {
      "cell_type": "code",
      "metadata": {
        "id": "i-v34uJM8SGC",
        "colab_type": "code",
        "outputId": "316391f6-a4da-4469-b310-013d3f76fb9f",
        "colab": {
          "base_uri": "https://localhost:8080/",
          "height": 35
        }
      },
      "source": [
        "simple_dict.values()"
      ],
      "execution_count": 0,
      "outputs": [
        {
          "output_type": "execute_result",
          "data": {
            "text/plain": [
              "dict_values(['Chemistry', 'Science', 'Math'])"
            ]
          },
          "metadata": {
            "tags": []
          },
          "execution_count": 34
        }
      ]
    },
    {
      "cell_type": "code",
      "metadata": {
        "id": "G9XvwvO08TSi",
        "colab_type": "code",
        "outputId": "c0c5b110-4b45-4750-d3ed-d6039da20a67",
        "colab": {
          "base_uri": "https://localhost:8080/",
          "height": 69
        }
      },
      "source": [
        "for item in simple_dict:\n",
        "  print(item)"
      ],
      "execution_count": 0,
      "outputs": [
        {
          "output_type": "stream",
          "text": [
            "class1\n",
            "class2\n",
            "class3\n"
          ],
          "name": "stdout"
        }
      ]
    },
    {
      "cell_type": "code",
      "metadata": {
        "id": "MdVqxh3C8fwc",
        "colab_type": "code",
        "outputId": "0cd028c2-e9b6-4135-8bfd-ceeae6397cc8",
        "colab": {
          "base_uri": "https://localhost:8080/",
          "height": 35
        }
      },
      "source": [
        "simple_dict.items()"
      ],
      "execution_count": 0,
      "outputs": [
        {
          "output_type": "execute_result",
          "data": {
            "text/plain": [
              "dict_items([('class1', 'Chemistry'), ('class2', 'Science'), ('class3', 'Math')])"
            ]
          },
          "metadata": {
            "tags": []
          },
          "execution_count": 36
        }
      ]
    },
    {
      "cell_type": "code",
      "metadata": {
        "id": "3eXLP9qA8Z8J",
        "colab_type": "code",
        "outputId": "55c28179-5135-4b95-fbf0-f30891da8957",
        "colab": {
          "base_uri": "https://localhost:8080/",
          "height": 69
        }
      },
      "source": [
        "for item,name in simple_dict.items():\n",
        "  print(item,name)"
      ],
      "execution_count": 0,
      "outputs": [
        {
          "output_type": "stream",
          "text": [
            "class1 Chemistry\n",
            "class2 Science\n",
            "class3 Math\n"
          ],
          "name": "stdout"
        }
      ]
    },
    {
      "cell_type": "code",
      "metadata": {
        "id": "YNVo86618lyD",
        "colab_type": "code",
        "outputId": "ccfb3305-21f5-4b9c-baaa-146f5c99bdf7",
        "colab": {
          "base_uri": "https://localhost:8080/",
          "height": 35
        }
      },
      "source": [
        "adv_dict = {'classes':[\n",
        "    'math',\n",
        "    'science',\n",
        "    'english',\n",
        "    'chemistry']}\n",
        "\n",
        "print(adv_dict)"
      ],
      "execution_count": 0,
      "outputs": [
        {
          "output_type": "stream",
          "text": [
            "{'classes': ['math', 'science', 'english', 'chemistry']}\n"
          ],
          "name": "stdout"
        }
      ]
    },
    {
      "cell_type": "code",
      "metadata": {
        "id": "IzLdNxUR9Woz",
        "colab_type": "code",
        "outputId": "c0f61153-a6d1-42d4-abde-40b97449892a",
        "colab": {
          "base_uri": "https://localhost:8080/",
          "height": 35
        }
      },
      "source": [
        "print(adv_dict['classes'])"
      ],
      "execution_count": 0,
      "outputs": [
        {
          "output_type": "stream",
          "text": [
            "['math', 'science', 'english', 'chemistry']\n"
          ],
          "name": "stdout"
        }
      ]
    },
    {
      "cell_type": "code",
      "metadata": {
        "id": "hXqiYe6u9Z7H",
        "colab_type": "code",
        "outputId": "732cb708-fc95-445b-baf6-e063059a801e",
        "colab": {
          "base_uri": "https://localhost:8080/",
          "height": 35
        }
      },
      "source": [
        "print(adv_dict['classes'][1])"
      ],
      "execution_count": 0,
      "outputs": [
        {
          "output_type": "stream",
          "text": [
            "science\n"
          ],
          "name": "stdout"
        }
      ]
    },
    {
      "cell_type": "code",
      "metadata": {
        "id": "--6l1KYs9c4u",
        "colab_type": "code",
        "colab": {}
      },
      "source": [
        ""
      ],
      "execution_count": 0,
      "outputs": []
    }
  ]
}