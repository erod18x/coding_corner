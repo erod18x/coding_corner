{
  "nbformat": 4,
  "nbformat_minor": 0,
  "metadata": {
    "colab": {
      "name": "git.ipynb",
      "version": "0.3.2",
      "provenance": [],
      "collapsed_sections": []
    },
    "kernelspec": {
      "name": "python3",
      "display_name": "Python 3"
    }
  },
  "cells": [
    {
      "cell_type": "markdown",
      "metadata": {
        "id": "A5XSuwCfnbVF",
        "colab_type": "text"
      },
      "source": [
        "#Git\n",
        "\n",
        "Git allows you to create different versions of files. \n",
        "\n",
        "Benefits:\n",
        "Share versions of your code without overwriting previous versions.\n",
        "\n",
        "Reference: https://git-scm.com/book/en/v2/Git-Basics-Getting-a-Git-Repository"
      ]
    },
    {
      "cell_type": "markdown",
      "metadata": {
        "id": "pMDM0gFW7JiH",
        "colab_type": "text"
      },
      "source": [
        ""
      ]
    },
    {
      "cell_type": "markdown",
      "metadata": {
        "id": "nFPOLE2LnlAP",
        "colab_type": "text"
      },
      "source": [
        "# Download and Install Git\n",
        "http://git-scm.com\n",
        "\n",
        "Leave settings as default"
      ]
    },
    {
      "cell_type": "markdown",
      "metadata": {
        "id": "hxkx2Jwfn0R0",
        "colab_type": "text"
      },
      "source": [
        "# Local Use\n",
        "\n",
        "##Create Directory\n",
        "\n",
        "<ol>\n",
        "  <li>Open Command Prompt / Terminal\n",
        "  <li>Type:  \n",
        "    \n",
        "    cd Desktop\n",
        "  \n",
        "  <li>Type: \n",
        "    \n",
        "    mkdir git-test-folder\n",
        "    \n",
        "  <li>Type:\n",
        "    \n",
        "    cd git-test-folder\n",
        "    \n",
        "   <li>Type: \n",
        "\n",
        "    git init\n",
        "     \n",
        "     \n",
        " You have now created a new folder on your desktop that will allow you to download and update versions of files on in this folder. \n",
        "\n",
        "\n",
        "\n",
        "\n",
        "    "
      ]
    },
    {
      "cell_type": "markdown",
      "metadata": {
        "id": "KBEOJ3e3xfeq",
        "colab_type": "text"
      },
      "source": [
        "## Copy Files to Directory From Remote Location\n",
        "\n",
        "<ol>\n",
        "  <li>(If not open already ) Open Command Prompt Terminal</ul>\n",
        "  <li>Navigate to your main folder to host the new files you will copy</ul>\n",
        "  <li>Type:\n",
        "  \n",
        "    git clone <url>\n",
        "\n",
        "  \n",
        "This will copy files from a URL to the folder you initialized allowing you to work on the files without jeapording the remote files. \n",
        "\n"
      ]
    },
    {
      "cell_type": "markdown",
      "metadata": {
        "id": "aAskAyQm6Y6D",
        "colab_type": "text"
      },
      "source": [
        "##Git Status\n",
        "\n",
        "\n",
        "`git status`\n",
        "\n",
        "\n",
        "This will allow you the check the status of your repository for any file/folder changes"
      ]
    },
    {
      "cell_type": "markdown",
      "metadata": {
        "id": "w8DK9qAS9Yg5",
        "colab_type": "text"
      },
      "source": [
        "## Add and Commit Files to Working Directory\n",
        "\n",
        "`git add <filename / directory>`\n",
        "\n",
        "`git commit -m 'Updated Notes'`\n",
        "\n",
        "Commiting files means the files are saved to your directory with the updates. You must use the -m command with a message afterwards. \n",
        "\n",
        "If running `git status` and seeing there are files that need commiting, you will run this command. \n",
        "\n"
      ]
    },
    {
      "cell_type": "markdown",
      "metadata": {
        "id": "sjpIA6li8ylX",
        "colab_type": "text"
      },
      "source": [
        "## Sharing Updates\n",
        "\n",
        "`git push`\n",
        "\n",
        "This will push your updates to the remote server. Caution: If you are working in the master branch, you will overwrite the orginal files. Always work in a new branch when pushing updates to avoid this issue."
      ]
    },
    {
      "cell_type": "markdown",
      "metadata": {
        "id": "fwNhcHiR7Koc",
        "colab_type": "text"
      },
      "source": [
        "## Create Branch\n",
        "\n",
        "`git branch <name your branch>`\n",
        "\n",
        "Creating branches allows you to work with exisiting files in your directory without overwriting originals. You're creating copies. When you are satisifed you can push you files to your branch for long term storage and eventual merge into your project."
      ]
    },
    {
      "cell_type": "code",
      "metadata": {
        "id": "Crb-221d7SLi",
        "colab_type": "code",
        "colab": {}
      },
      "source": [
        ""
      ],
      "execution_count": 0,
      "outputs": []
    }
  ]
}