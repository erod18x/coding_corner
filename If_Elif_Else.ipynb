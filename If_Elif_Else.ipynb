{
  "nbformat": 4,
  "nbformat_minor": 0,
  "metadata": {
    "colab": {
      "name": "If-Elif-Else.ipynb",
      "version": "0.3.2",
      "provenance": [],
      "collapsed_sections": [],
      "include_colab_link": true
    },
    "kernelspec": {
      "name": "python3",
      "display_name": "Python 3"
    }
  },
  "cells": [
    {
      "cell_type": "markdown",
      "metadata": {
        "id": "view-in-github",
        "colab_type": "text"
      },
      "source": [
        "<a href=\"https://colab.research.google.com/github/erodg35/coding_corner/blob/master/If_Elif_Else.ipynb\" target=\"_parent\"><img src=\"https://colab.research.google.com/assets/colab-badge.svg\" alt=\"Open In Colab\"/></a>"
      ]
    },
    {
      "cell_type": "markdown",
      "metadata": {
        "id": "0TAyeEXQJK3z",
        "colab_type": "text"
      },
      "source": [
        "#If, Else, and Elif\n",
        "Python supports the usual logical conditions from mathematics:\n",
        "\n",
        "Equals: a == b\n",
        "Not Equals: a != b\n",
        "Less than: a < b\n",
        "Less than or equal to: a <= b\n",
        "Greater than: a > b\n",
        "Greater than or equal to: a >= b\n",
        "These conditions can be used in several ways, most commonly in \"if statements\" and loops.\n",
        "\n",
        "An \"if statement\" is written by using the if keyword."
      ]
    },
    {
      "cell_type": "markdown",
      "metadata": {
        "id": "GlbHFelwKuU7",
        "colab_type": "text"
      },
      "source": [
        "#If"
      ]
    },
    {
      "cell_type": "code",
      "metadata": {
        "id": "4DIz-YH_JJii",
        "colab_type": "code",
        "colab": {}
      },
      "source": [
        "a = 33\n",
        "b = 200\n",
        "\n",
        "if b > a:\n",
        "  print(\"b is greater than a\")"
      ],
      "execution_count": 0,
      "outputs": []
    },
    {
      "cell_type": "markdown",
      "metadata": {
        "id": "AxAgj2YSKowQ",
        "colab_type": "text"
      },
      "source": [
        "##Indents Matter"
      ]
    },
    {
      "cell_type": "code",
      "metadata": {
        "id": "lHf2wAVeJOLV",
        "colab_type": "code",
        "colab": {}
      },
      "source": [
        "#No identation will cause an error\n",
        "if b > a:\n",
        "print(\"b is greater than a\")"
      ],
      "execution_count": 0,
      "outputs": []
    },
    {
      "cell_type": "markdown",
      "metadata": {
        "id": "6LLYohydKlfJ",
        "colab_type": "text"
      },
      "source": [
        "##Elif"
      ]
    },
    {
      "cell_type": "code",
      "metadata": {
        "id": "2MihNr-QJ3Ij",
        "colab_type": "code",
        "colab": {}
      },
      "source": [
        "a = 33\n",
        "b = 33\n",
        "\n",
        "if b > a:\n",
        "  print(\"b is great than a\")\n",
        "elif a == b:\n",
        "  print(\"A and be are equal\")"
      ],
      "execution_count": 0,
      "outputs": []
    },
    {
      "cell_type": "markdown",
      "metadata": {
        "id": "FkVf3VT4KgdM",
        "colab_type": "text"
      },
      "source": [
        "## Else"
      ]
    },
    {
      "cell_type": "code",
      "metadata": {
        "id": "snvojkl5KHrp",
        "colab_type": "code",
        "colab": {}
      },
      "source": [
        "a = 200\n",
        "b = 33\n",
        "\n",
        "if b > a:\n",
        "  print(\"b is greater than a\")\n",
        "elif a == b:\n",
        "  print(\"a and b are equal\")\n",
        "else:\n",
        "  print(\" b is less than a\")"
      ],
      "execution_count": 0,
      "outputs": []
    },
    {
      "cell_type": "markdown",
      "metadata": {
        "id": "X2AQgiZ5K0Zz",
        "colab_type": "text"
      },
      "source": [
        "##Short Hand"
      ]
    },
    {
      "cell_type": "markdown",
      "metadata": {
        "id": "whEosakILCrY",
        "colab_type": "text"
      },
      "source": [
        "###Short Hand If"
      ]
    },
    {
      "cell_type": "code",
      "metadata": {
        "id": "hdFr-VBiK2XI",
        "colab_type": "code",
        "colab": {}
      },
      "source": [
        "a = 200\n",
        "b = 33\n",
        "\n",
        "if a > b: print(\"a is greater than b\")"
      ],
      "execution_count": 0,
      "outputs": []
    },
    {
      "cell_type": "markdown",
      "metadata": {
        "id": "siiQ8FoqLFQC",
        "colab_type": "text"
      },
      "source": [
        "###Short Hand If ... Else"
      ]
    },
    {
      "cell_type": "code",
      "metadata": {
        "id": "RruZ96RIK50Y",
        "colab_type": "code",
        "colab": {}
      },
      "source": [
        "a = 200\n",
        "b = 33\n",
        "\n",
        "print(\"A\") if a > b else print(\"B\")"
      ],
      "execution_count": 0,
      "outputs": []
    },
    {
      "cell_type": "markdown",
      "metadata": {
        "id": "lDWhxLBfLY_v",
        "colab_type": "text"
      },
      "source": [
        "## And"
      ]
    },
    {
      "cell_type": "code",
      "metadata": {
        "id": "BzBHNPiJLaVa",
        "colab_type": "code",
        "colab": {}
      },
      "source": [
        "a = 200\n",
        "b = 33\n",
        "c = 220\n",
        "\n",
        "if a > b and c > a:\n",
        "  print(\"Both conditions are True\")"
      ],
      "execution_count": 0,
      "outputs": []
    },
    {
      "cell_type": "markdown",
      "metadata": {
        "id": "R-tjrHHxLvB0",
        "colab_type": "text"
      },
      "source": [
        "##Or"
      ]
    },
    {
      "cell_type": "code",
      "metadata": {
        "id": "iNGei5E7LwYA",
        "colab_type": "code",
        "colab": {}
      },
      "source": [
        "if a > b or a > c:\n",
        "  print(\"At least one of the conditions is True\")"
      ],
      "execution_count": 0,
      "outputs": []
    }
  ]
}