{
  "nbformat": 4,
  "nbformat_minor": 0,
  "metadata": {
    "colab": {
      "name": "helpful_links.ipynb",
      "version": "0.3.2",
      "provenance": [],
      "collapsed_sections": []
    },
    "kernelspec": {
      "name": "python3",
      "display_name": "Python 3"
    }
  },
  "cells": [
    {
      "cell_type": "markdown",
      "metadata": {
        "id": "V2zu375Il0s8",
        "colab_type": "text"
      },
      "source": [
        "#Useful Websites\n",
        "\n",
        "- https://www.kaggle.com\n",
        "- https://www.udacity.com\n",
        "- https://www.coursera.org\n",
        "- https://www.khanacademy.org/\n",
        "- https://www.coursera.org/\n",
        "- https://www.realpython.com/\n",
        "- https://www.datacamp.com\n",
        "- https://www.codecademy.com/\n",
        "- https://www.edx.org/\n",
        "- https://www.udemy.com/\n",
        "- https://www.w3schools.com"
      ]
    },
    {
      "cell_type": "code",
      "metadata": {
        "id": "TFVrv78Ql1k-",
        "colab_type": "code",
        "colab": {}
      },
      "source": [
        ""
      ],
      "execution_count": 0,
      "outputs": []
    }
  ]
}