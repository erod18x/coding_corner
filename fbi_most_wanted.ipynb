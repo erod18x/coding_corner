{
  "nbformat": 4,
  "nbformat_minor": 0,
  "metadata": {
    "colab": {
      "name": "fbi-most-wanted.ipynb",
      "version": "0.3.2",
      "provenance": [],
      "include_colab_link": true
    },
    "kernelspec": {
      "name": "python3",
      "display_name": "Python 3"
    }
  },
  "cells": [
    {
      "cell_type": "markdown",
      "metadata": {
        "id": "view-in-github",
        "colab_type": "text"
      },
      "source": [
        "<a href=\"https://colab.research.google.com/github/erodg35/coding_corner/blob/master/fbi_most_wanted.ipynb\" target=\"_parent\"><img src=\"https://colab.research.google.com/assets/colab-badge.svg\" alt=\"Open In Colab\"/></a>"
      ]
    },
    {
      "cell_type": "code",
      "metadata": {
        "id": "OA8l1Teqe_3Q",
        "colab_type": "code",
        "colab": {}
      },
      "source": [
        "import requests\n",
        "import json\n",
        "import pandas as pd"
      ],
      "execution_count": 0,
      "outputs": []
    },
    {
      "cell_type": "code",
      "metadata": {
        "id": "YDdr-c1FfES7",
        "colab_type": "code",
        "colab": {}
      },
      "source": [
        "r = requests.get('https://api.fbi.gov/wanted/v1/list')\n",
        "data = r.json()"
      ],
      "execution_count": 0,
      "outputs": []
    },
    {
      "cell_type": "code",
      "metadata": {
        "id": "-YZotC0afSoV",
        "colab_type": "code",
        "outputId": "d5ace0d8-fe3c-41d5-be7b-ee80131b4fbe",
        "colab": {
          "base_uri": "https://localhost:8080/",
          "height": 34
        }
      },
      "source": [
        "len(data['items'])"
      ],
      "execution_count": 5,
      "outputs": [
        {
          "output_type": "execute_result",
          "data": {
            "text/plain": [
              "20"
            ]
          },
          "metadata": {
            "tags": []
          },
          "execution_count": 5
        }
      ]
    },
    {
      "cell_type": "code",
      "metadata": {
        "id": "KdFzAn3Ofi5a",
        "colab_type": "code",
        "outputId": "e917cde6-02b5-4579-f1a0-340b4c12f3da",
        "colab": {
          "base_uri": "https://localhost:8080/",
          "height": 34
        }
      },
      "source": [
        "data.keys()"
      ],
      "execution_count": 6,
      "outputs": [
        {
          "output_type": "execute_result",
          "data": {
            "text/plain": [
              "dict_keys(['total', 'items', 'page'])"
            ]
          },
          "metadata": {
            "tags": []
          },
          "execution_count": 6
        }
      ]
    },
    {
      "cell_type": "code",
      "metadata": {
        "id": "pRssdyKBhgtw",
        "colab_type": "code",
        "outputId": "4fc2f731-0cf5-4c62-956d-902443204d77",
        "colab": {
          "base_uri": "https://localhost:8080/",
          "height": 88
        }
      },
      "source": [
        "print(data['total'])\n",
        "print(data['items'])\n",
        "print(data['page'])"
      ],
      "execution_count": 7,
      "outputs": [
        {
          "output_type": "stream",
          "text": [
            "777\n",
            "[{'race': 'asian', 'place_of_birth': 'Saipan, Northern Mariana Islands', 'url': 'https://www.fbi.gov/wanted/kidnap/maleina-luhk', 'modified': '2019-05-23T22:24:42+00:00', 'hair_raw': 'Brown', 'race_raw': 'Asian (Pacific Islander)', 'eyes_raw': 'Brown', 'images': [{'large': 'https://www.fbi.gov/wanted/kidnap/maleina-luhk/@@images/image/large', 'caption': None, 'thumb': 'https://www.fbi.gov/wanted/kidnap/maleina-luhk/@@images/image/thumb', 'original': 'https://www.fbi.gov/wanted/kidnap/maleina-luhk/@@images/image'}, {'large': 'https://www.fbi.gov/wanted/kidnap/maleina-luhk/luhkmage.jpg/@@images/image/large', 'caption': 'Photograph age progressed to 12 years', 'thumb': 'https://www.fbi.gov/wanted/kidnap/maleina-luhk/luhkmage.jpg/@@images/image/thumb', 'original': 'https://www.fbi.gov/wanted/kidnap/maleina-luhk/luhkmage.jpg'}], 'nationality': 'American', 'scars_and_marks': 'Maleina has a birthmark on her left cheek.', 'aliases': None, 'hair': 'brown', 'ncic': None, 'caution': None, 'publication': '2014-10-14T07:00:00', 'age_max': None, 'possible_countries': None, 'locations': None, 'sex': 'Female', 'legat_names': None, 'person_classification': 'Main', 'uid': '24127258-198b-479c-b6be-85e88bee539d', 'weight': '65 pounds (at time of disappearance)', 'occupations': None, 'files': [{'url': 'https://www.fbi.gov/wanted/kidnap/maleina-luhk/download.pdf', 'name': 'English'}], 'height_min': 48, 'reward_text': 'The FBI is offering a reward of up to $25,000 for information leading to the whereabouts of Maleina and Faloma Luhk.', 'warning_message': None, 'languages': None, 'height_max': 48, 'weight_min': 65, 'complexion': None, 'build': None, 'details': '<p>Maleina and <a href=\"https://www.fbi.gov/wanted/kidnap/faloma-luhk\" data-urltype=\"/view\" data-linktype=\"external\" data-val=\"https://www.fbi.gov/wanted/kidnap/faloma-luhk\">Faloma Luhk</a> were last seen at the bus stop near their home in the village of As Tao, Saipan, Northern Mariana Islands, on May 25, 2011. The sisters, age 9 and 10 at the time, were waiting for the school bus to arrive and have not been seen since that time.</p>', 'reward_max': 0, 'possible_states': None, 'coordinates': [], 'weight_max': 65, 'suspects': None, 'age_range': None, 'reward_min': 0, 'title': 'MALEINA LUHK', 'remarks': '<p>Maleina was last seen wearing a white blouse and blue jeans.</p>', 'path': '/wanted/kidnap/maleina-luhk', 'dates_of_birth_used': ['February 13, 2002'], 'subjects': ['Kidnappings and Missing Persons'], 'age_min': None, 'field_offices': ['honolulu'], 'additional_information': None, 'status': 'na', 'eyes': 'brown', 'description': 'May 25, 2011\\r\\nSaipan, Northern Mariana Islands', '@id': 'https://api.fbi.gov/@wanted-person/24127258-198b-479c-b6be-85e88bee539d'}, {'race': 'asian', 'place_of_birth': 'Saipan, Northern Mariana Islands', 'url': 'https://www.fbi.gov/wanted/kidnap/faloma-luhk', 'modified': '2019-05-23T22:23:49+00:00', 'hair_raw': 'Brown', 'race_raw': 'Asian (Pacific Islander)', 'eyes_raw': 'Brown', 'images': [{'large': 'https://www.fbi.gov/wanted/kidnap/faloma-luhk/@@images/image/large', 'caption': None, 'thumb': 'https://www.fbi.gov/wanted/kidnap/faloma-luhk/@@images/image/thumb', 'original': 'https://www.fbi.gov/wanted/kidnap/faloma-luhk/@@images/image'}, {'large': 'https://www.fbi.gov/wanted/kidnap/faloma-luhk/luhkfage.jpg/@@images/image/large', 'caption': 'Photograph age progressed to 13 years', 'thumb': 'https://www.fbi.gov/wanted/kidnap/faloma-luhk/luhkfage.jpg/@@images/image/thumb', 'original': 'https://www.fbi.gov/wanted/kidnap/faloma-luhk/luhkfage.jpg'}], 'nationality': 'American', 'scars_and_marks': None, 'aliases': None, 'hair': 'brown', 'ncic': None, 'caution': None, 'publication': '2014-10-14T07:00:00', 'age_max': None, 'possible_countries': None, 'locations': None, 'sex': 'Female', 'legat_names': None, 'person_classification': 'Main', 'uid': '841529a7-2d02-4cfa-9027-6d5a1951c66d', 'weight': '90 pounds (at time of disappearance)', 'occupations': None, 'files': [{'url': 'https://www.fbi.gov/wanted/kidnap/faloma-luhk/download.pdf', 'name': 'English'}], 'height_min': 61, 'reward_text': 'The FBI is offering a reward of up to $25,000 for information leading to the whereabouts of Faloma and Maleina Luhk.', 'warning_message': None, 'languages': None, 'height_max': 61, 'weight_min': 90, 'complexion': None, 'build': None, 'details': '<p>Faloma and <a href=\"https://www.fbi.gov/wanted/kidnap/maleina-luhk\" data-urltype=\"/view\" data-linktype=\"external\" data-val=\"https://www.fbi.gov/wanted/kidnap/maleina-luhk\">Maleina Luhk</a> were last seen at the bus stop near their home in the village of As Tao, Saipan, Northern Mariana Islands, on May 25, 2011. The sisters, ages 10 and 9 at the time, were waiting for the school bus to arrive and have not been seen since that time.</p>', 'reward_max': 0, 'possible_states': None, 'coordinates': [], 'weight_max': 90, 'suspects': None, 'age_range': None, 'reward_min': 0, 'title': 'FALOMA LUHK', 'remarks': '<p>Faloma was last seen wearing a light green shirt with a butterfly design and blue jeans.</p>', 'path': '/wanted/kidnap/faloma-luhk', 'dates_of_birth_used': ['February 9, 2001'], 'subjects': ['Kidnappings and Missing Persons'], 'age_min': None, 'field_offices': ['honolulu'], 'additional_information': None, 'status': 'na', 'eyes': 'brown', 'description': 'May 25, 2011\\r\\nSaipan, Northern Mariana Islands', '@id': 'https://api.fbi.gov/@wanted-person/841529a7-2d02-4cfa-9027-6d5a1951c66d'}, {'race': 'hispanic', 'place_of_birth': 'Mexico', 'url': 'https://www.fbi.gov/wanted/murders/octavio-curiel-martinez', 'modified': '2019-05-23T12:17:06+00:00', 'hair_raw': 'Brown', 'race_raw': 'White (Hispanic)', 'eyes_raw': 'Brown', 'images': [{'large': 'https://www.fbi.gov/wanted/murders/octavio-curiel-martinez/@@images/image/large', 'caption': 'Photograph taken in 2018', 'thumb': 'https://www.fbi.gov/wanted/murders/octavio-curiel-martinez/@@images/image/thumb', 'original': 'https://www.fbi.gov/wanted/murders/octavio-curiel-martinez/@@images/image'}, {'large': 'https://www.fbi.gov/wanted/murders/octavio-curiel-martinez/2016.png/@@images/image/large', 'caption': 'Photograph taken in 2016', 'thumb': 'https://www.fbi.gov/wanted/murders/octavio-curiel-martinez/2016.png/@@images/image/thumb', 'original': 'https://www.fbi.gov/wanted/murders/octavio-curiel-martinez/2016.png'}, {'large': 'https://www.fbi.gov/wanted/murders/octavio-curiel-martinez/2012.png/@@images/image/large', 'caption': 'Photograph taken in 2012', 'thumb': 'https://www.fbi.gov/wanted/murders/octavio-curiel-martinez/2012.png/@@images/image/thumb', 'original': 'https://www.fbi.gov/wanted/murders/octavio-curiel-martinez/2012.png'}, {'large': 'https://www.fbi.gov/wanted/murders/octavio-curiel-martinez/2005a.png/@@images/image/large', 'caption': 'Photograph taken in 2005', 'thumb': 'https://www.fbi.gov/wanted/murders/octavio-curiel-martinez/2005a.png/@@images/image/thumb', 'original': 'https://www.fbi.gov/wanted/murders/octavio-curiel-martinez/2005a.png'}, {'large': 'https://www.fbi.gov/wanted/murders/octavio-curiel-martinez/2018b.png/@@images/image/large', 'caption': 'Photograph taken in 2018', 'thumb': 'https://www.fbi.gov/wanted/murders/octavio-curiel-martinez/2018b.png/@@images/image/thumb', 'original': 'https://www.fbi.gov/wanted/murders/octavio-curiel-martinez/2018b.png'}, {'large': 'https://www.fbi.gov/wanted/murders/octavio-curiel-martinez/2005b.png/@@images/image/large', 'caption': 'Photograph taken in 2005', 'thumb': 'https://www.fbi.gov/wanted/murders/octavio-curiel-martinez/2005b.png/@@images/image/thumb', 'original': 'https://www.fbi.gov/wanted/murders/octavio-curiel-martinez/2005b.png'}], 'nationality': None, 'scars_and_marks': None, 'aliases': ['Octavio Curielmartinez', 'Martinez Octavio Curiel', 'Octavio Curiel', 'Octavio Martinez Curiel', 'Octavio Martinez Martinez', 'Octavio Curiel-Martinez'], 'hair': 'brown', 'ncic': 'W836310557', 'caution': \"<p>Octavio Curiel Martinez is wanted for his alleged involvement in multiple violent crimes that occurred on August 29, 2018.</p>\\r\\n<p>\\xa0</p>\\r\\n<p>On August 29th, Martinez allegedly arrived at a family member's home and shot at that family member multiple times, though the family member was not injured. Martinez allegedly fled the scene in a red, 2018 Toyota Tacoma pickup truck with California license plate 81718L2. Fearing for the safety of Martinez's wife, family members drove to her residence in El Monte, California. Martinez's pregnant wife was discovered at the scene. She had suffered multiple gunshot wounds. Martinez's wife and unborn child were pronounced dead at a hospital later that evening.</p>\\r\\n<p>Martinez was charged with murder (two counts); attempted murder; assault with a firearm (two counts); shooting at an inhabited dwelling or occupied car; corporal injury to spouse (two counts); assault by means likely to produce great bodily injury; felony child endangerment (two counts); and misdemeanor child endangerment (six counts) in the Superior Court of California, County of Los Angeles, and a state warrant was issued for his arrest on September 5, 2018. A federal arrest warrant was issued by the United States District Court for the Central District of California, Los Angeles, California, on March 15, 2019, after Martinez was charged federally with unlawful flight to avoid prosecution.</p>\", 'publication': '2019-03-29T13:31:00', 'age_max': None, 'possible_countries': None, 'locations': None, 'sex': 'Male', 'legat_names': None, 'person_classification': 'Main', 'uid': 'bfe2ec634cd2426381e73f669fff1fce', 'weight': '190 to 204 pounds', 'occupations': None, 'files': [{'url': 'https://www.fbi.gov/wanted/murders/octavio-curiel-martinez/download.pdf', 'name': 'English'}, {'url': 'https://www.fbi.gov/wanted/murders/octavio-curiel-martinez/martinez-spanish.pdf/@@download/file/Martinez Spanish.pdf', 'name': 'EN ESPAÑOL'}], 'height_min': 66, 'reward_text': 'The FBI is offering a reward of up to $10,000 for information leading to the arrest of Octavio Curiel Martinez.', 'warning_message': 'SHOULD BE CONSIDERED ARMED AND DANGEROUS', 'languages': None, 'height_max': 67, 'weight_min': 190, 'complexion': None, 'build': None, 'details': None, 'reward_max': 0, 'possible_states': None, 'coordinates': [], 'weight_max': 204, 'suspects': None, 'age_range': None, 'reward_min': 0, 'title': 'OCTAVIO CURIEL MARTINEZ', 'remarks': '<p>Martinez has previously resided in El Monte, California. He has ties to, and may be residing in, Mexico, specifically the town of Bolanos in Jalisco.</p>\\r\\n<p>\\xa0</p>\\r\\n<p>Martinez has a history of drug abuse.</p>', 'path': '/wanted/murders/octavio-curiel-martinez', 'dates_of_birth_used': ['April 20, 1982'], 'subjects': ['Violent Crimes - Murders'], 'age_min': None, 'field_offices': ['losangeles'], 'additional_information': None, 'status': 'na', 'eyes': 'brown', 'description': 'Unlawful Flight to Avoid Prosecution - Murder (Two Counts); Attempted Murder; Assault with a Firearm (Two Counts); Shooting at an Inhabited Dwelling or Occupied Car; Corporal Injury to Spouse (Two Counts); Assault by Means Likely to Produce Great Bodily Injury; Felony Child Endangerment (Two Counts); Misdemeanor Child Endangerment (Six Counts)', '@id': 'https://api.fbi.gov/@wanted-person/bfe2ec634cd2426381e73f669fff1fce'}, {'race': 'black', 'place_of_birth': 'Ohio', 'url': 'https://www.fbi.gov/wanted/cei/marqui-conley', 'modified': '2019-05-23T10:10:40+00:00', 'hair_raw': 'Black', 'race_raw': 'Black', 'eyes_raw': 'Brown', 'images': [{'large': 'https://www.fbi.gov/wanted/cei/marqui-conley/@@images/image/large', 'caption': 'Photograph taken in 2019', 'thumb': 'https://www.fbi.gov/wanted/cei/marqui-conley/@@images/image/thumb', 'original': 'https://www.fbi.gov/wanted/cei/marqui-conley/@@images/image'}], 'nationality': None, 'scars_and_marks': 'Conley has a tattoo on his left arm.', 'aliases': ['\"Key Man\"', 'Keyman Conley', 'Marqui Dee Conley', 'Marqui Dee Lamont Conley'], 'hair': 'black', 'ncic': 'W996733952', 'caution': '<p>Marqui Conley, a known co-leader of the All State gang in Middletown, Ohio, is wanted for his alleged involvement in a drug trafficking organization that has operated in Ohio since October of 2018.</p>\\r\\n<p>\\xa0</p>\\r\\n<p>On May 2, 2019, a federal arrest warrant was issued for Conley in the United States District Court for the Southern District of Ohio, Cincinnati, Ohio, after he was charged with conspiracy to possess and possession with intent to distribute a controlled substance.</p>', 'publication': '2019-05-10T09:04:00', 'age_max': None, 'possible_countries': None, 'locations': None, 'sex': 'Male', 'legat_names': None, 'person_classification': 'Main', 'uid': '52e97318708143a2978f1b273c1c7d25', 'weight': '175 pounds', 'occupations': None, 'files': [{'url': 'https://www.fbi.gov/wanted/cei/marqui-conley/download.pdf', 'name': 'English'}], 'height_min': 70, 'reward_text': None, 'warning_message': 'SHOULD BE CONSIDERED ARMED AND DANGEROUS', 'languages': None, 'height_max': 71, 'weight_min': 175, 'complexion': None, 'build': None, 'details': None, 'reward_max': 0, 'possible_states': None, 'coordinates': [], 'weight_max': 175, 'suspects': None, 'age_range': None, 'reward_min': 0, 'title': 'MARQUI CONLEY', 'remarks': '<p>Conley has previously resided in Middletown, Ohio.</p>', 'path': '/wanted/cei/marqui-conley', 'dates_of_birth_used': ['February 24, 1993', 'February 24, 1992', 'February 2, 1993'], 'subjects': ['Criminal Enterprise Investigations'], 'age_min': None, 'field_offices': ['cincinnati'], 'additional_information': None, 'status': 'na', 'eyes': 'brown', 'description': 'Conspiracy to Possess and Possession with Intent to Distribute a Controlled Substance', '@id': 'https://api.fbi.gov/@wanted-person/52e97318708143a2978f1b273c1c7d25'}, {'race': 'black', 'place_of_birth': 'New Jersey', 'url': 'https://www.fbi.gov/wanted/murders/dennis-m-cunningham', 'modified': '2019-05-23T10:10:13+00:00', 'hair_raw': 'Black (May be Bald)', 'race_raw': 'Black', 'eyes_raw': 'Brown', 'images': [{'large': 'https://www.fbi.gov/wanted/murders/dennis-m-cunningham/@@images/image/large', 'caption': None, 'thumb': 'https://www.fbi.gov/wanted/murders/dennis-m-cunningham/@@images/image/thumb', 'original': 'https://www.fbi.gov/wanted/murders/dennis-m-cunningham/@@images/image'}, {'large': 'https://www.fbi.gov/wanted/murders/dennis-m-cunningham/cunningham2.jpg/@@images/image/large', 'caption': '', 'thumb': 'https://www.fbi.gov/wanted/murders/dennis-m-cunningham/cunningham2.jpg/@@images/image/thumb', 'original': 'https://www.fbi.gov/wanted/murders/dennis-m-cunningham/cunningham2.jpg'}, {'large': 'https://www.fbi.gov/wanted/murders/dennis-m-cunningham/cunningham.jpg/@@images/image/large', 'caption': '', 'thumb': 'https://www.fbi.gov/wanted/murders/dennis-m-cunningham/cunningham.jpg/@@images/image/thumb', 'original': 'https://www.fbi.gov/wanted/murders/dennis-m-cunningham/cunningham.jpg'}], 'nationality': 'American', 'scars_and_marks': 'Cunningham has a tattoo on his left arm and a scar on his left forearm.', 'aliases': ['Dennis Brown', 'Dennie Cunningham', 'Muhammad Cunningham', 'Dennis Muhammad', 'Dennis M. Thomas'], 'hair': 'black', 'ncic': 'W161921223', 'caution': '<p>Dennis M. Cunningham, a convicted felon,\\xa0is wanted for his alleged involvement in the\\xa0shooting death\\xa0of a man in Irvington, New Jersey, on May 12, 2017.\\xa0\\xa0Cunningham was charged with murder, unlawful possession of a firearm by a convicted felon, and robbery\\xa0by the State of New Jersey on\\xa0June 15, 2017, and a warrant was issued for his arrest.\\xa0 On September 8, 2017, a\\xa0federal arrest warrant was issued for Cunningham in the United States District Court, District of New Jersey, Essex County, New Jersey, after he was charged with unlawful flight to avoid prosecution.</p>\\r\\n<p>\\xa0</p>', 'publication': '2019-05-13T13:01:00', 'age_max': None, 'possible_countries': None, 'locations': None, 'sex': 'Male', 'legat_names': None, 'person_classification': 'Main', 'uid': '39ee4223ec05483488efa2d05d812cc2', 'weight': '200 to 220 pounds', 'occupations': None, 'files': [{'url': 'https://www.fbi.gov/wanted/murders/dennis-m-cunningham/download.pdf', 'name': 'English'}], 'height_min': 74, 'reward_text': None, 'warning_message': 'SHOULD BE CONSIDERED ARMED AND DANGEROUS', 'languages': None, 'height_max': 74, 'weight_min': 200, 'complexion': None, 'build': None, 'details': None, 'reward_max': 0, 'possible_states': None, 'coordinates': [], 'weight_max': 220, 'suspects': None, 'age_range': None, 'reward_min': 0, 'title': 'DENNIS M. CUNNINGHAM', 'remarks': '<p>Cunningham has ties to Irvington and Newark, New Jersey, and Easton, Pennsylvania.</p>', 'path': '/wanted/murders/dennis-m-cunningham', 'dates_of_birth_used': ['September 15, 1969'], 'subjects': ['Violent Crime - Murders', 'Case of the Week'], 'age_min': None, 'field_offices': ['newark'], 'additional_information': None, 'status': 'na', 'eyes': 'brown', 'description': 'Unlawful Flight to Avoid Prosecution - Murder, Unlawful Possession of a Firearm by a Convicted Felon, Robbery', '@id': 'https://api.fbi.gov/@wanted-person/39ee4223ec05483488efa2d05d812cc2'}, {'race': 'white', 'place_of_birth': 'Bridgetown, New Jersey', 'url': 'https://www.fbi.gov/wanted/kidnap/william-ebeneezer-jones-jr', 'modified': '2019-05-20T18:43:03+00:00', 'hair_raw': 'Brown/blond', 'race_raw': 'White', 'eyes_raw': 'Blue', 'images': [{'large': 'https://www.fbi.gov/wanted/kidnap/william-ebeneezer-jones-jr/@@images/image/large', 'caption': 'Photograph taken circa 1961', 'thumb': 'https://www.fbi.gov/wanted/kidnap/william-ebeneezer-jones-jr/@@images/image/thumb', 'original': 'https://www.fbi.gov/wanted/kidnap/william-ebeneezer-jones-jr/@@images/image'}, {'large': 'https://www.fbi.gov/wanted/kidnap/william-ebeneezer-jones-jr/jones2.jpg/@@images/image/large', 'caption': 'Photograph taken December 25, 1961', 'thumb': 'https://www.fbi.gov/wanted/kidnap/william-ebeneezer-jones-jr/jones2.jpg/@@images/image/thumb', 'original': 'https://www.fbi.gov/wanted/kidnap/william-ebeneezer-jones-jr/jones2.jpg'}, {'large': 'https://www.fbi.gov/wanted/kidnap/william-ebeneezer-jones-jr/jones3.jpg/@@images/image/large', 'caption': 'Photograph taken circa 1962', 'thumb': 'https://www.fbi.gov/wanted/kidnap/william-ebeneezer-jones-jr/jones3.jpg/@@images/image/thumb', 'original': 'https://www.fbi.gov/wanted/kidnap/william-ebeneezer-jones-jr/jones3.jpg'}, {'large': 'https://www.fbi.gov/wanted/kidnap/william-ebeneezer-jones-jr/jones9.jpg/@@images/image/large', 'caption': 'Photo age-progressed to age 50', 'thumb': 'https://www.fbi.gov/wanted/kidnap/william-ebeneezer-jones-jr/jones9.jpg/@@images/image/thumb', 'original': 'https://www.fbi.gov/wanted/kidnap/william-ebeneezer-jones-jr/jones9.jpg'}, {'large': 'https://www.fbi.gov/wanted/kidnap/william-ebeneezer-jones-jr/jones8.jpg/@@images/image/large', 'caption': 'On December 17, 1962, three-year-old William \"Billy\" Jones, Jr. was last seen outside of his neighbor\\'s house in Vineland, New Jersey around 11:45 a.m.', 'thumb': 'https://www.fbi.gov/wanted/kidnap/william-ebeneezer-jones-jr/jones8.jpg/@@images/image/thumb', 'original': 'https://www.fbi.gov/wanted/kidnap/william-ebeneezer-jones-jr/jones8.jpg'}, {'large': 'https://www.fbi.gov/wanted/kidnap/william-ebeneezer-jones-jr/jones7.jpg/@@images/image/large', 'caption': 'On December 17, 1962, three-year-old William \"Billy\" Jones, Jr. was last seen outside of his neighbor\\'s house in Vineland, New Jersey around 11:45 a.m.', 'thumb': 'https://www.fbi.gov/wanted/kidnap/william-ebeneezer-jones-jr/jones7.jpg/@@images/image/thumb', 'original': 'https://www.fbi.gov/wanted/kidnap/william-ebeneezer-jones-jr/jones7.jpg'}, {'large': 'https://www.fbi.gov/wanted/kidnap/william-ebeneezer-jones-jr/jones4.jpg/@@images/image/large', 'caption': '', 'thumb': 'https://www.fbi.gov/wanted/kidnap/william-ebeneezer-jones-jr/jones4.jpg/@@images/image/thumb', 'original': 'https://www.fbi.gov/wanted/kidnap/william-ebeneezer-jones-jr/jones4.jpg'}, {'large': 'https://www.fbi.gov/wanted/kidnap/william-ebeneezer-jones-jr/jones5.jpg/@@images/image/large', 'caption': '', 'thumb': 'https://www.fbi.gov/wanted/kidnap/william-ebeneezer-jones-jr/jones5.jpg/@@images/image/thumb', 'original': 'https://www.fbi.gov/wanted/kidnap/william-ebeneezer-jones-jr/jones5.jpg'}, {'large': 'https://www.fbi.gov/wanted/kidnap/william-ebeneezer-jones-jr/jones6.jpg/@@images/image/large', 'caption': 'Jones’ sweater, not worn when he went missing', 'thumb': 'https://www.fbi.gov/wanted/kidnap/william-ebeneezer-jones-jr/jones6.jpg/@@images/image/thumb', 'original': 'https://www.fbi.gov/wanted/kidnap/william-ebeneezer-jones-jr/jones6.jpg'}], 'nationality': None, 'scars_and_marks': 'Jones has a vaccination scar shaped like a giraffe on the back of his left arm between his elbow and shoulder.', 'aliases': ['Billy Jones'], 'hair': 'brown', 'ncic': None, 'caution': None, 'publication': '2012-12-17T07:00:00', 'age_max': None, 'possible_countries': None, 'locations': None, 'sex': 'Male', 'legat_names': None, 'person_classification': 'Victim', 'uid': '85ebb948-ef25-4e21-b528-7006734b542f', 'weight': '35 pounds (at time of disappearance)', 'occupations': None, 'files': [{'url': 'https://www.fbi.gov/wanted/kidnap/william-ebeneezer-jones-jr/download.pdf', 'name': 'English'}], 'height_min': 42, 'reward_text': None, 'warning_message': None, 'languages': None, 'height_max': 42, 'weight_min': 35, 'complexion': None, 'build': None, 'details': '<p>On December 17, 1962,\\xa0then\\xa0three-year-old William \"Billy\" Jones, Jr. was last seen outside of his neighbor\\'s house in Vineland, New Jersey around 11:45 a.m. He was last seen wearing a light blue or grayish snowsuit with a navy collar and silver buttons, a hat that matched his snowsuit and tan high-top crepe-soled shoes with yellow laces. He reportedly had a dime in his pocket that was given to him by his mother.</p>', 'reward_max': 0, 'possible_states': None, 'coordinates': [], 'weight_max': 35, 'suspects': None, 'age_range': None, 'reward_min': 0, 'title': 'WILLIAM EBENEEZER JONES, JR.', 'remarks': '<p>At the time of his disappearance, Jones loved dogs and would do anything for dogs.</p>', 'path': '/wanted/kidnap/william-ebeneezer-jones-jr', 'dates_of_birth_used': ['March 5, 1959'], 'subjects': ['Kidnappings and Missing Persons'], 'age_min': None, 'field_offices': ['newark'], 'additional_information': None, 'status': 'na', 'eyes': 'blue', 'description': 'December 17, 1962\\r\\nVineland, New Jersey', '@id': 'https://api.fbi.gov/@wanted-person/85ebb948-ef25-4e21-b528-7006734b542f'}, {'race': 'black', 'place_of_birth': None, 'url': 'https://www.fbi.gov/wanted/kidnap/myra-lewis', 'modified': '2019-05-20T17:26:04+00:00', 'hair_raw': 'Black', 'race_raw': 'Black', 'eyes_raw': 'Brown', 'images': [{'large': 'https://www.fbi.gov/wanted/kidnap/myra-lewis/@@images/image/large', 'caption': None, 'thumb': 'https://www.fbi.gov/wanted/kidnap/myra-lewis/@@images/image/thumb', 'original': 'https://www.fbi.gov/wanted/kidnap/myra-lewis/@@images/image'}], 'nationality': None, 'scars_and_marks': None, 'aliases': None, 'hair': 'black', 'ncic': None, 'caution': None, 'publication': '2014-03-10T07:00:00', 'age_max': None, 'possible_countries': None, 'locations': None, 'sex': 'Female', 'legat_names': None, 'person_classification': 'Victim', 'uid': 'e505a7f4-fa2f-46f2-8066-30a15abf82ef', 'weight': '27 pounds', 'occupations': None, 'files': [{'url': 'https://www.fbi.gov/wanted/kidnap/myra-lewis/download.pdf', 'name': 'English'}], 'height_min': 37, 'reward_text': 'The FBI is offering a reward of up to $20,000 for information regarding the whereabouts of Myra Lewis.', 'warning_message': None, 'languages': None, 'height_max': 37, 'weight_min': 27, 'complexion': None, 'build': None, 'details': '<p>Myra Lewis, age 2 at the time of her disappearance, has been missing\\xa0from Mississippi since March 1, 2014.\\xa0 She was last seen by family members, between 10:30 am and 11 am, playing outside her home in Camden, Mississippi.</p>', 'reward_max': 99999, 'possible_states': None, 'coordinates': [], 'weight_max': 27, 'suspects': None, 'age_range': None, 'reward_min': 10000, 'title': 'MYRA LEWIS', 'remarks': '<p>Myra Lewis was last seen wearing white or khaki pants, a turquoise sweater with a bear on the front, and pink tennis shoes.</p>', 'path': '/wanted/kidnap/myra-lewis', 'dates_of_birth_used': ['November 30, 2011'], 'subjects': ['Kidnappings and Missing Persons'], 'age_min': None, 'field_offices': ['jackson'], 'additional_information': None, 'status': 'na', 'eyes': 'brown', 'description': 'Camden, Mississippi\\r\\nMarch 1, 2014', '@id': 'https://api.fbi.gov/@wanted-person/e505a7f4-fa2f-46f2-8066-30a15abf82ef'}, {'race': 'black', 'place_of_birth': 'Chicago, Illinois', 'url': 'https://www.fbi.gov/wanted/kidnap/diamond-yvette-bradley', 'modified': '2019-05-20T17:25:09+00:00', 'hair_raw': 'Black', 'race_raw': 'Black', 'eyes_raw': 'Brown', 'images': [{'large': 'https://www.fbi.gov/wanted/kidnap/diamond-yvette-bradley/@@images/image/large', 'caption': None, 'thumb': 'https://www.fbi.gov/wanted/kidnap/diamond-yvette-bradley/@@images/image/thumb', 'original': 'https://www.fbi.gov/wanted/kidnap/diamond-yvette-bradley/@@images/image'}, {'large': 'https://www.fbi.gov/wanted/kidnap/diamond-yvette-bradley/diamond-age-progressed.jpg/@@images/image/large', 'caption': 'Photo age-progressed to age 19', 'thumb': 'https://www.fbi.gov/wanted/kidnap/diamond-yvette-bradley/diamond-age-progressed.jpg/@@images/image/thumb', 'original': 'https://www.fbi.gov/wanted/kidnap/diamond-yvette-bradley/diamond-age-progressed.jpg'}], 'nationality': None, 'scars_and_marks': None, 'aliases': None, 'hair': 'black', 'ncic': None, 'caution': None, 'publication': '2010-09-10T13:25:00', 'age_max': None, 'possible_countries': None, 'locations': None, 'sex': 'Female', 'legat_names': None, 'person_classification': 'Main', 'uid': 'd95634ead95fa6851968268bdafd65a3', 'weight': '40 pounds (at time of disappearance)', 'occupations': None, 'files': [{'url': 'https://www.fbi.gov/wanted/kidnap/diamond-yvette-bradley/download.pdf', 'name': 'English'}], 'height_min': 36, 'reward_text': 'A reward of up to $10,000 is being offered for information regarding the current whereabouts of Tionda and Diamond Bradley.', 'warning_message': None, 'languages': None, 'height_max': 36, 'weight_min': 40, 'complexion': None, 'build': None, 'details': '<p>On July 6, 2001, (then) three-year-old Diamond Yvette Bradley\\xa0and her sister, (then) ten-year-old <a href=\"https://www.fbi.gov/wanted/kidnap/tionda-z.-bradley\" data-val=\"https://www.fbi.gov/wanted/kidnap/tionda-z.-bradley\" data-linktype=\"external\" data-urltype=\"/view\">Tionda Bradley,</a> were reported missing to the Chicago Police Department, Chicago, Illinois. According to their mother, a note written by Tionda was found, stating that the two girls were going to the store and to the school playground. An extensive search of the area and surrounding neighborhood met with negative results.</p>', 'reward_max': 10000, 'possible_states': ['US-IL'], 'coordinates': [], 'weight_max': 40, 'suspects': None, 'age_range': None, 'reward_min': 0, 'title': 'DIAMOND YVETTE BRADLEY', 'remarks': '<p>At the time of her disappearance, Diamond Bradley had a medium complexion and wore her hair in braided ponytails. She was last seen wearing purple ponytail holders in her hair. She has a scar on the left side of her scalp, has deep-set eyes, and is described as timid but loves to talk.</p>', 'path': '/wanted/kidnap/diamond-yvette-bradley', 'dates_of_birth_used': ['November 25, 1997'], 'subjects': ['Kidnappings and Missing Persons'], 'age_min': None, 'field_offices': ['chicago'], 'additional_information': None, 'status': 'na', 'eyes': 'brown', 'description': 'July 6, 2001\\r\\nChicago, Illinois', '@id': 'https://api.fbi.gov/@wanted-person/d95634ead95fa6851968268bdafd65a3'}, {'race': 'black', 'place_of_birth': 'Chicago, Illinois', 'url': 'https://www.fbi.gov/wanted/kidnap/tionda-z.-bradley', 'modified': '2019-05-20T17:23:06+00:00', 'hair_raw': 'Brown', 'race_raw': 'Black', 'eyes_raw': 'Brown', 'images': [{'large': 'https://www.fbi.gov/wanted/kidnap/tionda-z.-bradley/@@images/image/large', 'caption': None, 'thumb': 'https://www.fbi.gov/wanted/kidnap/tionda-z.-bradley/@@images/image/thumb', 'original': 'https://www.fbi.gov/wanted/kidnap/tionda-z.-bradley/@@images/image'}, {'large': 'https://www.fbi.gov/wanted/kidnap/tionda-z.-bradley/tionda-age-progressed.jpg/@@images/image/large', 'caption': 'Photo age-progressed to age 26', 'thumb': 'https://www.fbi.gov/wanted/kidnap/tionda-z.-bradley/tionda-age-progressed.jpg/@@images/image/thumb', 'original': 'https://www.fbi.gov/wanted/kidnap/tionda-z.-bradley/tionda-age-progressed.jpg'}], 'nationality': None, 'scars_and_marks': None, 'aliases': None, 'hair': 'brown', 'ncic': None, 'caution': None, 'publication': '2010-09-10T09:25:00', 'age_max': None, 'possible_countries': None, 'locations': None, 'sex': 'Female', 'legat_names': None, 'person_classification': 'Main', 'uid': '22398b29f59496df2bda1e22b5dbf197', 'weight': '70 pounds (at time of disappearance)', 'occupations': None, 'files': [{'url': 'https://www.fbi.gov/wanted/kidnap/tionda-z.-bradley/download.pdf', 'name': 'English'}], 'height_min': 50, 'reward_text': 'A reward of up to $10,000 is being offered for information regarding the current whereabouts of Tionda and Diamond Bradley.', 'warning_message': None, 'languages': None, 'height_max': 50, 'weight_min': 70, 'complexion': None, 'build': None, 'details': '<p>On July 6, 2001, (then) ten-year-old Tionda Z. Bradley and her sister, (then) three-year-old <a href=\"https://www.fbi.gov/wanted/kidnap/diamond-yvette-bradley\" data-val=\"https://www.fbi.gov/wanted/kidnap/diamond-yvette-bradley\" data-linktype=\"external\" data-urltype=\"/view\">Diamond Yvette Bradley</a>, were reported missing to the Chicago Police Department, Chicago, Illinois. According to their mother, a note written by Tionda was found, stating that the two girls were going to the store and to the school playground. An extensive search of the area and surrounding neighborhood met with negative results.</p>', 'reward_max': 10000, 'possible_states': ['US-IL'], 'coordinates': [], 'weight_max': 70, 'suspects': None, 'age_range': None, 'reward_min': 0, 'title': 'TIONDA Z. BRADLEY', 'remarks': '<p>At the time of her disappearance, Tionda Bradley had a light complexion, a slim build, and wore her hair in long ponytails. She had a burn scar on her left forearm about the size of a quarter. Tionda was last seen wearing green ponytail holders in her hair, and had a scrape on her left calf. She is described as being shy with strangers, and loved to run track and dance.</p>', 'path': '/wanted/kidnap/tionda-z.-bradley', 'dates_of_birth_used': ['January 20, 1991'], 'subjects': ['Kidnappings and Missing Persons'], 'age_min': None, 'field_offices': ['chicago'], 'additional_information': None, 'status': 'na', 'eyes': 'brown', 'description': 'July 6, 2001\\r\\nChicago, Illinois', '@id': 'https://api.fbi.gov/@wanted-person/22398b29f59496df2bda1e22b5dbf197'}, {'race': None, 'place_of_birth': None, 'url': 'https://www.fbi.gov/wanted/cyber/goznym-subjects', 'modified': '2019-05-20T13:35:00+00:00', 'hair_raw': None, 'race_raw': None, 'eyes_raw': None, 'images': [{'large': 'https://www.fbi.gov/wanted/cyber/goznym-subjects/@@images/image/large', 'caption': None, 'thumb': 'https://www.fbi.gov/wanted/cyber/goznym-subjects/@@images/image/thumb', 'original': 'https://www.fbi.gov/wanted/cyber/goznym-subjects/@@images/image'}, {'large': 'https://www.fbi.gov/wanted/cyber/goznym-subjects/eremenko.jpg/@@images/image/large', 'caption': 'Viktor Vladimirovich Eremenko', 'thumb': 'https://www.fbi.gov/wanted/cyber/goznym-subjects/eremenko.jpg/@@images/image/thumb', 'original': 'https://www.fbi.gov/wanted/cyber/goznym-subjects/eremenko.jpg'}, {'large': 'https://www.fbi.gov/wanted/cyber/goznym-subjects/gorin.jpg/@@images/image/large', 'caption': 'Vladimir Gorin', 'thumb': 'https://www.fbi.gov/wanted/cyber/goznym-subjects/gorin.jpg/@@images/image/thumb', 'original': 'https://www.fbi.gov/wanted/cyber/goznym-subjects/gorin.jpg'}, {'large': 'https://www.fbi.gov/wanted/cyber/goznym-subjects/katirkin.jpg/@@images/image/large', 'caption': 'Ruslan Vladimirovich Katirkin', 'thumb': 'https://www.fbi.gov/wanted/cyber/goznym-subjects/katirkin.jpg/@@images/image/thumb', 'original': 'https://www.fbi.gov/wanted/cyber/goznym-subjects/katirkin.jpg'}, {'large': 'https://www.fbi.gov/wanted/cyber/goznym-subjects/manokhin.jpg/@@images/image/large', 'caption': 'Farkhad Rauf Ogly Manokhin', 'thumb': 'https://www.fbi.gov/wanted/cyber/goznym-subjects/manokhin.jpg/@@images/image/thumb', 'original': 'https://www.fbi.gov/wanted/cyber/goznym-subjects/manokhin.jpg'}, {'large': 'https://www.fbi.gov/wanted/cyber/goznym-subjects/silhouette.jpg/@@images/image/large', 'caption': 'Konstantin Volchkov', 'thumb': 'https://www.fbi.gov/wanted/cyber/goznym-subjects/silhouette.jpg/@@images/image/thumb', 'original': 'https://www.fbi.gov/wanted/cyber/goznym-subjects/silhouette.jpg'}], 'nationality': None, 'scars_and_marks': None, 'aliases': None, 'hair': None, 'ncic': None, 'caution': None, 'publication': '2019-05-07T07:31:00', 'age_max': None, 'possible_countries': None, 'locations': None, 'sex': None, 'legat_names': None, 'person_classification': 'Main', 'uid': 'be9b45b2944e4c01b4a33d82043d7229', 'weight': None, 'occupations': None, 'files': [{'url': 'https://www.fbi.gov/wanted/cyber/goznym-subjects/goznym-suspects-cyber-fbi-wanted-8-5x11.pdf', 'name': 'English'}, {'url': 'https://www.fbi.gov/wanted/cyber/goznym-subjects/russian.pdf/@@download/file/russian.pdf', 'name': 'НА РУССКОМ'}], 'height_min': None, 'reward_text': None, 'warning_message': 'THESE INDIVIDUALS SHOULD BE CONSIDERED AN INTERNATIONAL FLIGHT RISK AND AN ESCAPE RISK', 'languages': None, 'height_max': None, 'weight_min': None, 'complexion': None, 'build': None, 'details': '<p>On April 17, 2019, a federal grand jury sitting in the Western District of Pennsylvania returned an indictment against five Russian\\xa0nationals for their alleged roles in a sophisticated computer hacking campaign that used GozNym malware to steal millions of dollars from victims in the United States, primarily businesses and their financial institutions. \\xa0The indictment charges that, from October of 2015 through December of 2016, Viktor Vladimirovich Eremenko,\\xa0aka “nfcorpi\", Vladimir Gorin,\\xa0aka “Voland”, “mrv”,\\xa0and “riddler”, Farkhad Rauf Ogly Manokhin,\\xa0aka “frusa”,\\xa0Konstantin Volchkov,\\xa0aka “elvi”, Ruslan Vladimirovich Katirkin,\\xa0aka “stratos” and\\xa0“xen”, and five others, allegedly conspired to infect victims’ computers with GozNym malware designed to capture victims’ online banking login credentials; use the captured login credentials to fraudulently gain unauthorized access to victims’ online bank accounts; and steal money from victims’ bank accounts and launder those funds using\\xa0United States\\xa0and foreign beneficiary bank accounts controlled by the conspirators.\\xa0 The indictment charges these defendants with computer fraud conspiracy, wire and bank fraud conspiracy, and money laundering conspiracy.\\xa0 On April 18, 2019, the United States District Court for the Western District of Pennsylvania in Pittsburgh, Pennsylvania, issued a federal arrest warrant for each of these defendants upon the grand jury’s return of the indictment.</p>\\r\\n<p>\\xa0</p>', 'reward_max': 0, 'possible_states': None, 'coordinates': [], 'weight_max': None, 'suspects': None, 'age_range': None, 'reward_min': 0, 'title': 'GOZNYM SUBJECTS', 'remarks': None, 'path': '/wanted/cyber/goznym-subjects', 'dates_of_birth_used': None, 'subjects': [\"Cyber's Most Wanted\"], 'age_min': None, 'field_offices': ['pittsburgh'], 'additional_information': None, 'status': 'na', 'eyes': None, 'description': 'COMPUTER FRAUD CONSPIRACY; WIRE AND BANK FRAUD CONSPIRACY; MONEY LAUNDERING CONSPIRACY', '@id': 'https://api.fbi.gov/@wanted-person/be9b45b2944e4c01b4a33d82043d7229'}, {'race': None, 'place_of_birth': None, 'url': 'https://www.fbi.gov/wanted/seeking-info/angelina-pressley', 'modified': '2019-05-16T13:16:57+00:00', 'hair_raw': None, 'race_raw': None, 'eyes_raw': None, 'images': [{'large': 'https://www.fbi.gov/wanted/seeking-info/angelina-pressley/@@images/image/large', 'caption': None, 'thumb': 'https://www.fbi.gov/wanted/seeking-info/angelina-pressley/@@images/image/thumb', 'original': 'https://www.fbi.gov/wanted/seeking-info/angelina-pressley/@@images/image'}, {'large': 'https://www.fbi.gov/wanted/seeking-info/angelina-pressley/angelina-pressley-pic-2.jpg/@@images/image/large', 'caption': '', 'thumb': 'https://www.fbi.gov/wanted/seeking-info/angelina-pressley/angelina-pressley-pic-2.jpg/@@images/image/thumb', 'original': 'https://www.fbi.gov/wanted/seeking-info/angelina-pressley/angelina-pressley-pic-2.jpg'}], 'nationality': None, 'scars_and_marks': None, 'aliases': None, 'hair': None, 'ncic': None, 'caution': None, 'publication': '2019-04-26T13:10:00', 'age_max': None, 'possible_countries': None, 'locations': None, 'sex': None, 'legat_names': None, 'person_classification': 'Main', 'uid': '153dddefc9e04fbcba0dde12a1681739', 'weight': None, 'occupations': None, 'files': [{'url': 'https://www.fbi.gov/wanted/seeking-info/angelina-pressley/download.pdf', 'name': 'English'}], 'height_min': None, 'reward_text': 'The FBI is offering a reward of up to $10,000 for information leading to the arrest and conviction of the person(s) responsible for the shooting death of Angelina Pressley.', 'warning_message': None, 'languages': None, 'height_max': None, 'weight_min': None, 'complexion': None, 'build': None, 'details': '<p>On May 8, 2016, at approximately 2:50 a.m., Angelina Pressley, her 8-year-old son, and another adult male were riding home from an event. After they pulled into the parking lot of 4905 Creek Pointe Terrace, Louisville, Kentucky, they were stopped by an unknown African American male with a handgun. Pressley ran and the unknown male chased her. He then struck her with the pistol and subsequently fired two shots, killing Pressley in front of her 8-year-old son. The suspect then got into a gold, tan, or silver Pontiac Grand Prix.</p>\\r\\n<p>\\xa0</p>', 'reward_max': 0, 'possible_states': None, 'coordinates': [], 'weight_max': None, 'suspects': None, 'age_range': None, 'reward_min': 0, 'title': 'ANGELINA PRESSLEY', 'remarks': '<p>The suspect is described as having a lighter tone brown skin, possibly 6\\'1\" or 6\\'2\", and weighing approximately 220 pounds. He wore a white tank top t-shirt and orange cargo shorts.</p>', 'path': '/wanted/seeking-info/angelina-pressley', 'dates_of_birth_used': None, 'subjects': [], 'age_min': None, 'field_offices': ['louisville'], 'additional_information': None, 'status': 'na', 'eyes': None, 'description': 'Murder Victim\\r\\nLouisville, Kentucky\\r\\nMay 8, 2016', '@id': 'https://api.fbi.gov/@wanted-person/153dddefc9e04fbcba0dde12a1681739'}, {'race': 'hispanic', 'place_of_birth': 'Centralia, Washington', 'url': 'https://www.fbi.gov/wanted/kidnap/aranza-maria-ochoa-lopez', 'modified': '2019-05-16T11:28:59+00:00', 'hair_raw': 'Blonde/light brown  (at time of disappearance)', 'race_raw': 'White (Hispanic)', 'eyes_raw': 'Blue', 'images': [{'large': 'https://www.fbi.gov/wanted/kidnap/aranza-maria-ochoa-lopez/@@images/image/large', 'caption': 'Aranza Maria Ochoa Lopez - photograph taken in 2018', 'thumb': 'https://www.fbi.gov/wanted/kidnap/aranza-maria-ochoa-lopez/@@images/image/thumb', 'original': 'https://www.fbi.gov/wanted/kidnap/aranza-maria-ochoa-lopez/@@images/image'}, {'large': 'https://www.fbi.gov/wanted/kidnap/aranza-maria-ochoa-lopez/esmeralda-1.png/@@images/image/large', 'caption': 'Esmeralda Lynn Lopez Lopez - charged with custodial interference in the first degree in Clark County, Washington', 'thumb': 'https://www.fbi.gov/wanted/kidnap/aranza-maria-ochoa-lopez/esmeralda-1.png/@@images/image/thumb', 'original': 'https://www.fbi.gov/wanted/kidnap/aranza-maria-ochoa-lopez/esmeralda-1.png'}, {'large': 'https://www.fbi.gov/wanted/kidnap/aranza-maria-ochoa-lopez/esmeralda-2.gif/@@images/image/large', 'caption': 'Esmeralda Lynn Lopez Lopez - charged with custodial interference in the first degree in Clark County, Washington', 'thumb': 'https://www.fbi.gov/wanted/kidnap/aranza-maria-ochoa-lopez/esmeralda-2.gif/@@images/image/thumb', 'original': 'https://www.fbi.gov/wanted/kidnap/aranza-maria-ochoa-lopez/esmeralda-2.gif'}, {'large': 'https://www.fbi.gov/wanted/kidnap/aranza-maria-ochoa-lopez/santos-garcia.png/@@images/image/large', 'caption': 'Gabriel Garcia Santos - may be in the company of Aranza Maria Ochoa Lopez and Esmeralda Lynn Lopez Lopez', 'thumb': 'https://www.fbi.gov/wanted/kidnap/aranza-maria-ochoa-lopez/santos-garcia.png/@@images/image/thumb', 'original': 'https://www.fbi.gov/wanted/kidnap/aranza-maria-ochoa-lopez/santos-garcia.png'}], 'nationality': 'American', 'scars_and_marks': 'Aranza has pierced ears.', 'aliases': ['Aganza Maria Ochoa Lopez', 'Aranza Ochoa Lopez'], 'hair': 'brown', 'ncic': None, 'caution': None, 'publication': '2019-05-06T09:11:00', 'age_max': None, 'possible_countries': None, 'locations': None, 'sex': 'Female', 'legat_names': None, 'person_classification': 'Main', 'uid': '06dfa08bfb6f45519a54de4fb785dbd4', 'weight': 'Approximately 40 to 42 pounds (at time of disappearance)', 'occupations': None, 'files': [{'url': 'https://www.fbi.gov/wanted/kidnap/aranza-maria-ochoa-lopez/download.pdf', 'name': 'English'}, {'url': 'https://www.fbi.gov/wanted/kidnap/aranza-maria-ochoa-lopez/lopezes-spanish.pdf/@@download/file/Lopezes Spanish.pdf', 'name': 'EN ESPAÑOL'}], 'height_min': 40, 'reward_text': 'The FBI is offering a reward of up to $10,000 for information leading to the recovery of Aranza Maria Ochoa Lopez, and the location, arrest, and conviction of Esmeralda Lynn Lopez Lopez.', 'warning_message': None, 'languages': ['English', 'Beginner Spanish'], 'height_max': 42, 'weight_min': 40, 'complexion': None, 'build': None, 'details': '<p>The FBI\\'s Seattle Field Office is assisting the Vancouver Police Department in Washington with their search for Aranza Maria Ochoa Lopez.</p>\\r\\n<p>\\xa0</p>\\r\\n<p>On October 25, 2018, Aranza was allegedly removed from a mall in Vancouver, Washington, by her biological mother, Esmeralda Lynn Lopez Lopez, during a supervised visit. As a result of removing Aranza from the mall, Esmeralda was charged with custodial interference in the first degree in Clark County, Washington. Prior to the incident, Esmeralda allegedly kidnapped and robbed a man in Vancouver, Washington, and took his vehicle.</p>\\r\\n<p>\\xa0</p>\\r\\n<p>Esmeralda was charged with kidnapping in the first degree, robbery in the first degree, theft in the second degree, identity theft in the second degree, and custodial interference in the first degree in Clark County, Washington, and a state warrant was issued for her arrest on October 26, 2018.</p>\\r\\n<p>\\xa0</p>\\r\\n<p>Esmeralda is described as a White (Hispanic) American female, born September 16, 1997, in Portland, Oregon. She has brown hair, brown eyes, is 5\\'0\", and weighs 138 pounds. She speaks fluent English and Spanish. Esmeralda may use the following aliases: Esmerlada Lopez Lopez, Esmerelda Lopez Lopez, Esmeralda Lopez Lopez, and Esmeralda Lynn Lopez. She may display erratic behavior and should be considered a flight risk. Esmeralda has close ties to Mexico.</p>\\r\\n<p>\\xa0</p>\\r\\n<p>It is believed that Aranza and Esmeralda may be residing or traveling in Mexico with Esmeralda\\'s boyfriend, Gabriel Garcia Santos.</p>', 'reward_max': 0, 'possible_states': None, 'coordinates': [], 'weight_max': 42, 'suspects': None, 'age_range': None, 'reward_min': 0, 'title': 'ARANZA MARIA OCHOA LOPEZ', 'remarks': '<p>Aranza was last seen wearing a long-sleeved dark blue shirt with a bulldog on the front; blue, purple, and white striped pants; and Paw Patrol shoes. Her appearance may have been altered through hair dye and makeup.</p>', 'path': '/wanted/kidnap/aranza-maria-ochoa-lopez', 'dates_of_birth_used': ['April 17, 2014'], 'subjects': ['Kidnappings and Missing Persons'], 'age_min': None, 'field_offices': ['seattle'], 'additional_information': None, 'status': 'na', 'eyes': 'blue', 'description': 'October 25, 2018\\r\\nVancouver, Washington', '@id': 'https://api.fbi.gov/@wanted-person/06dfa08bfb6f45519a54de4fb785dbd4'}, {'race': 'black', 'place_of_birth': 'Olney, Illinois', 'url': 'https://www.fbi.gov/wanted/murders/charles-lee-hill', 'modified': '2019-05-14T22:26:51+00:00', 'hair_raw': 'Black', 'race_raw': 'Black', 'eyes_raw': 'Brown', 'images': [{'large': 'https://www.fbi.gov/wanted/murders/charles-lee-hill/@@images/image/large', 'caption': 'Image obtained in 2015', 'thumb': 'https://www.fbi.gov/wanted/murders/charles-lee-hill/@@images/image/thumb', 'original': 'https://www.fbi.gov/wanted/murders/charles-lee-hill/@@images/image'}, {'large': 'https://www.fbi.gov/wanted/murders/charles-lee-hill/hill4.png/@@images/image/large', 'caption': 'Photograph taken in 1971', 'thumb': 'https://www.fbi.gov/wanted/murders/charles-lee-hill/hill4.png/@@images/image/thumb', 'original': 'https://www.fbi.gov/wanted/murders/charles-lee-hill/hill4.png'}, {'large': 'https://www.fbi.gov/wanted/murders/charles-lee-hill/hill2.png/@@images/image/large', 'caption': '', 'thumb': 'https://www.fbi.gov/wanted/murders/charles-lee-hill/hill2.png/@@images/image/thumb', 'original': 'https://www.fbi.gov/wanted/murders/charles-lee-hill/hill2.png'}, {'large': 'https://www.fbi.gov/wanted/murders/charles-lee-hill/hill3.png/@@images/image/large', 'caption': '', 'thumb': 'https://www.fbi.gov/wanted/murders/charles-lee-hill/hill3.png/@@images/image/thumb', 'original': 'https://www.fbi.gov/wanted/murders/charles-lee-hill/hill3.png'}], 'nationality': 'American', 'scars_and_marks': 'Hill has a scar on his left cheek.', 'aliases': ['\"Rashad\"', 'Fela Alatonsi', 'Charles Hill', 'Charlie Hill', 'Charlie Lee Hill', 'Fela Olatonsi', 'Fela Olatunji', 'Ronald Leon Thompson'], 'hair': 'black', 'ncic': 'W052050680', 'caution': '<p>Charles Lee Hill is wanted for his alleged involvement in a series of violent crimes that occurred in November of 1971.</p>\\r\\n<p>\\xa0</p>\\r\\n<p>On November 8, 1971, Hill was allegedly involved in the shooting death of a New Mexico State Police officer during a traffic stop approximately 15 miles west of Albuquerque, New Mexico. On November 27, 1971, Hill and two accomplices (believed to be deceased), allegedly also kidnapped a tow truck driver at gunpoint and forced him to drive the trio to the Albuquerque International Airport. The three men are alleged to have then hijacked a Trans World Airlines (TWA) flight, re-routing the plane to Tampa, Florida. After exchanging the hostages for fuel, Hill and his accomplices flew to Havana, Cuba.</p>\\r\\n<p>\\xa0</p>\\r\\n<p>On November 25, 1971, Hill was charged with murder by the Magistrate Court of Bernalillo District, State of New Mexico, and an arrest warrant was issued the same day for his arrest. On November 26, 1971, a federal arrest warrant was issued for Hill in the United States District Court for the District of New Mexico, Albuquerque, New Mexico, and he was charged with unlawful flight to avoid prosecution.</p>\\r\\n<p>\\xa0</p>\\r\\n<p>Additionally, on December 14, 1971, Hill was charged in the United States District Court for the District of New Mexico, Albuquerque, New Mexico, with six counts of possession of unregistered firearms, one count of air piracy, and one count of kidnapping.</p>', 'publication': '2019-04-18T07:51:00', 'age_max': None, 'possible_countries': None, 'locations': None, 'sex': 'Male', 'legat_names': None, 'person_classification': 'Main', 'uid': 'bfa3839f884140dea8218e97abb26392', 'weight': '165 to 170 pounds', 'occupations': None, 'files': [{'url': 'https://www.fbi.gov/wanted/murders/charles-lee-hill/download.pdf', 'name': 'English'}, {'url': 'https://www.fbi.gov/wanted/murders/charles-lee-hill/hill-spanish.pdf/@@download/file/Hill Spanish.pdf', 'name': 'EN ESPAÑOL'}], 'height_min': 69, 'reward_text': None, 'warning_message': 'SHOULD BE CONSIDERED ARMED AND DANGEROUS', 'languages': None, 'height_max': 71, 'weight_min': 165, 'complexion': None, 'build': None, 'details': None, 'reward_max': 0, 'possible_states': None, 'coordinates': [], 'weight_max': 170, 'suspects': None, 'age_range': None, 'reward_min': 0, 'title': 'CHARLES LEE HILL', 'remarks': None, 'path': '/wanted/murders/charles-lee-hill', 'dates_of_birth_used': ['December 15, 1949', 'October 4, 1950'], 'subjects': ['Violent Crimes - Murders'], 'age_min': None, 'field_offices': ['albuquerque'], 'additional_information': None, 'status': 'na', 'eyes': 'brown', 'description': 'Unlawful Flight to Avoid Prosecution - Murder; Air Piracy; Kidnapping', '@id': 'https://api.fbi.gov/@wanted-person/bfa3839f884140dea8218e97abb26392'}, {'race': 'hispanic', 'place_of_birth': 'Los Angeles, California', 'url': 'https://www.fbi.gov/wanted/kidnap/alora-danielle-benitez', 'modified': '2019-05-14T20:10:52+00:00', 'hair_raw': 'Brown', 'race_raw': 'White (Hispanic)', 'eyes_raw': 'Brown', 'images': [{'large': 'https://www.fbi.gov/wanted/kidnap/alora-danielle-benitez/@@images/image/large', 'caption': 'Alora Danielle Benitez', 'thumb': 'https://www.fbi.gov/wanted/kidnap/alora-danielle-benitez/@@images/image/thumb', 'original': 'https://www.fbi.gov/wanted/kidnap/alora-danielle-benitez/@@images/image'}, {'large': 'https://www.fbi.gov/wanted/kidnap/alora-danielle-benitez/benitez-and-mercado.png/@@images/image/large', 'caption': 'Marisela Mercado (L) - wanted for murder in the State of California, County of Los Angeles, and missing child Alora Danielle Benitez (R).', 'thumb': 'https://www.fbi.gov/wanted/kidnap/alora-danielle-benitez/benitez-and-mercado.png/@@images/image/thumb', 'original': 'https://www.fbi.gov/wanted/kidnap/alora-danielle-benitez/benitez-and-mercado.png'}, {'large': 'https://www.fbi.gov/wanted/kidnap/alora-danielle-benitez/mercado.png/@@images/image/large', 'caption': 'Marisela Mercado - wanted for murder in the State of California, County of Los Angeles. Photograph taken in 2014.', 'thumb': 'https://www.fbi.gov/wanted/kidnap/alora-danielle-benitez/mercado.png/@@images/image/thumb', 'original': 'https://www.fbi.gov/wanted/kidnap/alora-danielle-benitez/mercado.png'}, {'large': 'https://www.fbi.gov/wanted/kidnap/alora-danielle-benitez/cerratos.png/@@images/image/large', 'caption': 'Roman Cerratos - wanted for murder in the State of California, County of Los Angeles. Photograph taken in 2017.', 'thumb': 'https://www.fbi.gov/wanted/kidnap/alora-danielle-benitez/cerratos.png/@@images/image/thumb', 'original': 'https://www.fbi.gov/wanted/kidnap/alora-danielle-benitez/cerratos.png'}], 'nationality': 'American', 'scars_and_marks': None, 'aliases': ['Alora Benitez'], 'hair': 'brown', 'ncic': None, 'caution': None, 'publication': '2019-05-14T08:35:00', 'age_max': None, 'possible_countries': None, 'locations': None, 'sex': 'Female', 'legat_names': None, 'person_classification': 'Main', 'uid': 'fd187b9eda7b4846a0272b7e4c75cbef', 'weight': '100 pounds (at time of disappearance)', 'occupations': None, 'files': [{'url': 'https://www.fbi.gov/wanted/kidnap/alora-danielle-benitez/download.pdf', 'name': 'English'}], 'height_min': 60, 'reward_text': None, 'warning_message': None, 'languages': None, 'height_max': 62, 'weight_min': 100, 'complexion': None, 'build': None, 'details': '<p>The FBI\\'s Los Angeles Field Office is assisting the Los Angeles County Sheriff\\'s Department in California with their search for Alora Danielle Benitez.</p>\\r\\n<p>\\xa0</p>\\r\\n<p>Benitez may be in the company of her biological mother, Marisela Mercado, and her mother\\'s boyfriend, Roman Cerratos. Mercado and Cerratos are wanted for murder in an unrelated case in the State of California, County of Los Angeles, and state warrants were issued for their arrests on April 22, 2019.</p>\\r\\n<p>\\xa0</p>\\r\\n<p>Mercado is described as a White (Hispanic) American female, born August 26, 1978, in Los Angeles, California. She has brown hair, brown eyes, weighs 125 to 130 pounds, and is 5\\'3\". Mercado has a tattoo on her upper right arm and shoulder. She may use the alias Maricela Mercado, and has previously resided in Redondo Beach, California.</p>\\r\\n<p>\\xa0</p>\\r\\n<p>Cerratos is described as a White (Hispanic) American male, born October 10, 1979, in Los Angeles, California. He has black hair (currently worn bald), brown eyes, weighs 210 pounds, and is 5\\'11\" to 6\\'1\". Cerratos has multiple tattoos, including the word \"Maricela\" tattooed vertically on one of his forearms. He has a fresh two-to-three inch laceration on the top of his right hand at the web between thumb and forefinger, and a one-inch laceration on his right index finger. Cerratos has previously resided in Maywood, Hawaiian Gardena, and San Diego, California.</p>\\r\\n<p>\\xa0</p>\\r\\n<p>Mercado and Cerratos may have fled to San Diego, California, or Mexico.</p>\\r\\n<p>\\xa0</p>\\r\\n<p style=\"text-align: center;\"><strong>Mercado and Cerratos should be considered armed and dangerous.</strong></p>', 'reward_max': 0, 'possible_states': None, 'coordinates': [], 'weight_max': 100, 'suspects': None, 'age_range': None, 'reward_min': 0, 'title': 'ALORA DANIELLE BENITEZ', 'remarks': None, 'path': '/wanted/kidnap/alora-danielle-benitez', 'dates_of_birth_used': ['May 13, 2003'], 'subjects': ['Kidnappings and Missing Persons'], 'age_min': None, 'field_offices': ['losangeles'], 'additional_information': None, 'status': 'na', 'eyes': 'brown', 'description': 'April 16, 2019\\r\\nSouth Bay, Los Angeles, California', '@id': 'https://api.fbi.gov/@wanted-person/fd187b9eda7b4846a0272b7e4c75cbef'}, {'race': 'white', 'place_of_birth': 'South Amboy, New Jersey', 'url': 'https://www.fbi.gov/wanted/dt/donna-joan-borup', 'modified': '2019-05-14T12:19:27+00:00', 'hair_raw': 'Brown (May be Graying)', 'race_raw': 'White', 'eyes_raw': 'Brown or Blue', 'images': [{'large': 'https://www.fbi.gov/wanted/dt/donna-joan-borup/@@images/image/large', 'caption': 'Photograph taken in 1981', 'thumb': 'https://www.fbi.gov/wanted/dt/donna-joan-borup/@@images/image/thumb', 'original': 'https://www.fbi.gov/wanted/dt/donna-joan-borup/@@images/image'}, {'large': 'https://www.fbi.gov/wanted/dt/donna-joan-borup/borup3.jpg/@@images/image/large', 'caption': 'Photograph taken in 1981', 'thumb': 'https://www.fbi.gov/wanted/dt/donna-joan-borup/borup3.jpg/@@images/image/thumb', 'original': 'https://www.fbi.gov/wanted/dt/donna-joan-borup/borup3.jpg'}, {'large': 'https://www.fbi.gov/wanted/dt/donna-joan-borup/borup4.jpg/@@images/image/large', 'caption': 'Photograph taken in 1981', 'thumb': 'https://www.fbi.gov/wanted/dt/donna-joan-borup/borup4.jpg/@@images/image/thumb', 'original': 'https://www.fbi.gov/wanted/dt/donna-joan-borup/borup4.jpg'}, {'large': 'https://www.fbi.gov/wanted/dt/donna-joan-borup/borupage2016jpg.jpg/@@images/image/large', 'caption': 'Age Progressed Photograph 2016', 'thumb': 'https://www.fbi.gov/wanted/dt/donna-joan-borup/borupage2016jpg.jpg/@@images/image/thumb', 'original': 'https://www.fbi.gov/wanted/dt/donna-joan-borup/borupage2016jpg.jpg'}, {'large': 'https://www.fbi.gov/wanted/dt/donna-joan-borup/borup2.jpg/@@images/image/large', 'caption': 'Photograph taken in 1981', 'thumb': 'https://www.fbi.gov/wanted/dt/donna-joan-borup/borup2.jpg/@@images/image/thumb', 'original': 'https://www.fbi.gov/wanted/dt/donna-joan-borup/borup2.jpg'}], 'nationality': 'American', 'scars_and_marks': 'None known', 'aliases': ['Rebecca Ann Morgan', 'Donna Borup', 'Donna Austopchuk'], 'hair': 'brown', 'ncic': 'W292048338', 'caution': '<p>Donna Joan Borup is wanted for her alleged participation in a violent anti-apartheid demonstration at JFK International Airport in Queens, New York, on September 26, 1981. During the riot, Borup allegedly tossed a caustic substance into the eyes of a Port Authority Police Officer, leaving him partially blind. At the time, Borup was a member of the May 19th Communist Organization, a Marxist-Leninist organization which advocated the armed revolution and violent overthrow of the United States Government. Borup, along with some accomplices, was arrested and released on bail pending trial in May of 1982.</p>\\r\\n<p>\\xa0</p>\\r\\n<p>On May 20, 1982, an arrest warrant was issued for Borup after she failed to appear for her trial on a Queens County indictment which charged her with riot in the first degree and assault in the first degree. On September 14, 1982, a federal arrest warrant was issued for Borup in the Eastern District of New York and she was charged with unlawful flight to avoid prosecution.</p>', 'publication': '2011-07-26T11:00:00', 'age_max': None, 'possible_countries': None, 'locations': None, 'sex': 'Female', 'legat_names': None, 'person_classification': 'Main', 'uid': 'fc2e50719a332e9d7856d94d5e5fc5d1', 'weight': None, 'occupations': ['Previously worked in graphic design and silkscreening'], 'files': [{'url': 'https://www.fbi.gov/wanted/dt/donna-joan-borup/download.pdf', 'name': 'English'}, {'url': 'https://www.fbi.gov/wanted/dt/donna-joan-borup/borup-en-espanol.pdf/@@download/file/Borup EN ESPAÑOL.pdf', 'name': 'EN ESPAÑOL'}], 'height_min': 64, 'reward_text': 'The FBI is offering a reward of up to $100,000 for information leading to the arrest of Donna Joan Borup.', 'warning_message': 'SHOULD BE CONSIDERED ARMED AND DANGEROUS', 'languages': None, 'height_max': 66, 'weight_min': None, 'complexion': None, 'build': None, 'details': None, 'reward_max': 999999, 'possible_states': None, 'coordinates': [], 'weight_max': None, 'suspects': None, 'age_range': None, 'reward_min': 100000, 'title': 'DONNA JOAN BORUP', 'remarks': '<p>Borup has ties to Pennsylvania, New Jersey, North Carolina, and Canada.\\xa0 Borup is thought to have a photographic memory and is highly intelligent.</p>', 'path': '/wanted/dt/donna-joan-borup', 'dates_of_birth_used': ['August 5, 1952', 'March 5, 1947', 'April 10, 1950'], 'subjects': ['Domestic Terrorism'], 'age_min': None, 'field_offices': ['newyork'], 'additional_information': None, 'status': 'na', 'eyes': 'brown', 'description': 'Unlawful Flight to Avoid Prosecution - Riot, Assault on a Police Officer', '@id': 'https://api.fbi.gov/@wanted-person/fc2e50719a332e9d7856d94d5e5fc5d1'}, {'race': 'white', 'place_of_birth': 'California', 'url': 'https://www.fbi.gov/wanted/cac/gregory-robert-whitehead', 'modified': '2019-05-10T20:00:30+00:00', 'hair_raw': 'Brown (mostly bald)', 'race_raw': 'White', 'eyes_raw': 'Blue', 'images': [{'large': 'https://www.fbi.gov/wanted/cac/gregory-robert-whitehead/@@images/image/large', 'caption': 'Photograph taken in 2007', 'thumb': 'https://www.fbi.gov/wanted/cac/gregory-robert-whitehead/@@images/image/thumb', 'original': 'https://www.fbi.gov/wanted/cac/gregory-robert-whitehead/@@images/image'}, {'large': 'https://www.fbi.gov/wanted/cac/gregory-robert-whitehead/whitehead_g-2.jpg/@@images/image/large', 'caption': 'Photograph taken in 2007', 'thumb': 'https://www.fbi.gov/wanted/cac/gregory-robert-whitehead/whitehead_g-2.jpg/@@images/image/thumb', 'original': 'https://www.fbi.gov/wanted/cac/gregory-robert-whitehead/whitehead_g-2.jpg'}], 'nationality': 'American', 'scars_and_marks': 'Whitehead has scars on his left finger and abdomen.', 'aliases': ['Greg Whitehead'], 'hair': 'brown', 'ncic': 'W624673159', 'caution': '<p>In October of 2007, Gregory Whitehead allegedly lured two young girls to his home under the ruse of using them for housecleaning services. It was reported to the Colorado Springs Police Department that two teenage girls were sexually assaulted by Whitehead. While at his Denver home, Whitehead allegedly served the girls alcohol, took nude and graphic photos of them, and paid them for their sexual favors.</p>\\r\\n<p>Whitehead was arrested in Colorado Springs, Colorado, for the following crimes: sexual exploitation of children; soliciting for child prostitution; inducement of child prostitution; criminal attempt to commit sexual assault; and sexual assault. On January 4, 2008, Whitehead failed to appear at a hearing and the state district court issued a failure to appear warrant for his arrest. On June 26, 2008, Whitehead was charged federally with unlawful flight to avoid prosecution by the United States District Court, District of Colorado, and a federal warrant was issued for his arrest.</p>', 'publication': '2015-02-09T07:00:00', 'age_max': None, 'possible_countries': None, 'locations': None, 'sex': 'Male', 'legat_names': None, 'person_classification': 'Main', 'uid': '3d02cd87-23c6-4cd3-8610-7b245ac2659c', 'weight': 'Approximately 180 pounds', 'occupations': None, 'files': [{'url': 'https://www.fbi.gov/wanted/cac/gregory-robert-whitehead/download.pdf', 'name': 'English'}], 'height_min': 74, 'reward_text': None, 'warning_message': None, 'languages': None, 'height_max': 74, 'weight_min': 180, 'complexion': None, 'build': None, 'details': None, 'reward_max': 0, 'possible_states': None, 'coordinates': [], 'weight_max': 180, 'suspects': None, 'age_range': None, 'reward_min': 0, 'title': 'GREGORY ROBERT WHITEHEAD', 'remarks': '<p>Whitehead may wear contact lenses or glasses.</p>', 'path': '/wanted/cac/gregory-robert-whitehead', 'dates_of_birth_used': ['May 18, 1962'], 'subjects': ['Crimes Against Children'], 'age_min': None, 'field_offices': ['denver'], 'additional_information': None, 'status': 'na', 'eyes': 'blue', 'description': 'Unlawful Flight to Avoid Prosecution - Sexual Exploitation of  Children; Soliciting for Child Prostitution; Inducement of Child Prostitution; Criminal Attempt to Commit Sexual Assault; Sexual Assault (Failure to Appear)', '@id': 'https://api.fbi.gov/@wanted-person/3d02cd87-23c6-4cd3-8610-7b245ac2659c'}, {'race': None, 'place_of_birth': \"People's Republic of China\", 'url': 'https://www.fbi.gov/wanted/cyber/fujie-wang', 'modified': '2019-05-09T21:44:38+00:00', 'hair_raw': 'Black', 'race_raw': None, 'eyes_raw': 'Brown', 'images': [{'large': 'https://www.fbi.gov/wanted/cyber/fujie-wang/@@images/image/large', 'caption': None, 'thumb': 'https://www.fbi.gov/wanted/cyber/fujie-wang/@@images/image/thumb', 'original': 'https://www.fbi.gov/wanted/cyber/fujie-wang/@@images/image'}, {'large': 'https://www.fbi.gov/wanted/cyber/fujie-wang/fujie1.jpg/@@images/image/large', 'caption': '', 'thumb': 'https://www.fbi.gov/wanted/cyber/fujie-wang/fujie1.jpg/@@images/image/thumb', 'original': 'https://www.fbi.gov/wanted/cyber/fujie-wang/fujie1.jpg'}], 'nationality': 'Chinese', 'scars_and_marks': None, 'aliases': ['Dennis Wang', 'Wang Fujie'], 'hair': 'black', 'ncic': None, 'caution': '<p>On May 7, 2019, a grand jury in the United States District Court for the Southern District of Indiana, Indianapolis Division,\\xa0indicted two individuals for conspiracy to commit fraud and related activity in connection with computers, conspiracy to commit wire fraud, and causing intentional damage to a protected computer.</p>\\r\\n<p>\\xa0</p>\\r\\n<p>The subjects, including Fujie Wang, were alleged members of a hacking group operating in China that conducted intrusion campaigns targeting the computer systems of\\xa0large businesses in the United States, including a large health benefits company in\\xa0Indiana.\\xa0 It is alleged that, between February of 2014 and January of 2015,\\xa0the\\xa0subjects conspired to intentionally access computer networks to identify and ultimately steal data concerning approximately 78.8 million persons from computer networks, including names, health identification numbers, dates of birth, Social Security numbers, addresses, telephone numbers, email addresses, employment information, and income data.\\xa0 Once the information was collected, it was allegedly placed in encrypted files and sent to destinations in\\xa0China.</p>\\r\\n<p>\\xa0</p>', 'publication': '2019-05-03T09:51:00', 'age_max': None, 'possible_countries': None, 'locations': None, 'sex': 'Male', 'legat_names': None, 'person_classification': 'Main', 'uid': 'fbbbee48617f43069c64962f338a0a3d', 'weight': None, 'occupations': None, 'files': [{'url': 'https://www.fbi.gov/wanted/cyber/fujie-wang/download.pdf', 'name': 'English'}], 'height_min': None, 'reward_text': None, 'warning_message': None, 'languages': None, 'height_max': None, 'weight_min': None, 'complexion': None, 'build': None, 'details': None, 'reward_max': 0, 'possible_states': None, 'coordinates': [], 'weight_max': None, 'suspects': None, 'age_range': None, 'reward_min': 0, 'title': 'FUJIE WANG', 'remarks': '<p>Fujie Wang is known to reside in Shenzhen, China.</p>', 'path': '/wanted/cyber/fujie-wang', 'dates_of_birth_used': ['January 18, 1987 '], 'subjects': [\"Cyber's Most Wanted\"], 'age_min': None, 'field_offices': ['indianapolis'], 'additional_information': None, 'status': 'na', 'eyes': 'brown', 'description': 'Conspiracy to Commit Fraud and Related Activity in Connection with Computers; Conspiracy to Commit Wire Fraud; Intentional Damage to a Protected Computer', '@id': 'https://api.fbi.gov/@wanted-person/fbbbee48617f43069c64962f338a0a3d'}, {'race': 'white', 'place_of_birth': None, 'url': 'https://www.fbi.gov/wanted/vicap/unidentified-persons/jane-doe-49', 'modified': '2019-05-09T15:22:00+00:00', 'hair_raw': 'Brown - may have had a red tint', 'race_raw': 'White', 'eyes_raw': 'Unknown', 'images': [{'large': 'https://www.fbi.gov/wanted/vicap/unidentified-persons/jane-doe-49/@@images/image/large', 'caption': None, 'thumb': 'https://www.fbi.gov/wanted/vicap/unidentified-persons/jane-doe-49/@@images/image/thumb', 'original': 'https://www.fbi.gov/wanted/vicap/unidentified-persons/jane-doe-49/@@images/image'}, {'large': 'https://www.fbi.gov/wanted/vicap/unidentified-persons/jane-doe-49/side.jpg/@@images/image/large', 'caption': '', 'thumb': 'https://www.fbi.gov/wanted/vicap/unidentified-persons/jane-doe-49/side.jpg/@@images/image/thumb', 'original': 'https://www.fbi.gov/wanted/vicap/unidentified-persons/jane-doe-49/side.jpg'}, {'large': 'https://www.fbi.gov/wanted/vicap/unidentified-persons/jane-doe-49/front-clay.jpg/@@images/image/large', 'caption': '', 'thumb': 'https://www.fbi.gov/wanted/vicap/unidentified-persons/jane-doe-49/front-clay.jpg/@@images/image/thumb', 'original': 'https://www.fbi.gov/wanted/vicap/unidentified-persons/jane-doe-49/front-clay.jpg'}, {'large': 'https://www.fbi.gov/wanted/vicap/unidentified-persons/jane-doe-49/reconstruction.jpg/@@images/image/large', 'caption': '', 'thumb': 'https://www.fbi.gov/wanted/vicap/unidentified-persons/jane-doe-49/reconstruction.jpg/@@images/image/thumb', 'original': 'https://www.fbi.gov/wanted/vicap/unidentified-persons/jane-doe-49/reconstruction.jpg'}], 'nationality': None, 'scars_and_marks': None, 'aliases': None, 'hair': 'brown', 'ncic': None, 'caution': None, 'publication': '2016-02-11T07:00:00', 'age_max': 50, 'possible_countries': None, 'locations': None, 'sex': 'Female', 'legat_names': None, 'person_classification': 'Victim', 'uid': 'd58b7b35-cffa-4744-88b8-5175f405cb44', 'weight': 'Unknown', 'occupations': None, 'files': [{'url': 'https://www.fbi.gov/wanted/vicap/unidentified-persons/jane-doe-49/vicap-alert-5-9-19.pdf', 'name': 'English'}], 'height_min': 60, 'reward_text': None, 'warning_message': None, 'languages': None, 'height_max': 64, 'weight_min': None, 'complexion': None, 'build': None, 'details': \"<p>On Wednesday, October 26, 1994, a hunter found the nude remains of a White female, between 30 and 50 years old, on Bamfield Road, near the Alcona Dam. It is estimated that this victim died one to four years prior to her remains being found. The victim suffered a fracture to her left arm, just above the elbow, years prior to her death. The broken bone in the victim's arm was potentiall the result of a vehicle accident years prior to death. She also displayed evidence of injuries to the spinal column in the upper and lower thoracic region.</p>\", 'reward_max': 0, 'possible_states': None, 'coordinates': [], 'weight_max': None, 'suspects': None, 'age_range': '30 to 50 years old', 'reward_min': 0, 'title': 'JANE DOE - GLENNIE, MICHIGAN', 'remarks': '<p>The victim had a distinct gap between her two upper front teeth. She displayed poor dental care. She had evidence of missing and/or pulled teeth.</p>', 'path': '/wanted/vicap/unidentified-persons/jane-doe-49', 'dates_of_birth_used': None, 'subjects': ['ViCAP Unidentified Persons'], 'age_min': 30, 'field_offices': None, 'additional_information': None, 'status': 'na', 'eyes': None, 'description': 'Glennie, Michigan\\r\\nOctober 26, 1994', '@id': 'https://api.fbi.gov/@wanted-person/d58b7b35-cffa-4744-88b8-5175f405cb44'}, {'race': None, 'place_of_birth': 'Jeddah, Saudi Arabia', 'url': 'https://www.fbi.gov/wanted/terrorinfo/hamza-bin-laden', 'modified': '2019-05-09T11:19:21+00:00', 'hair_raw': None, 'race_raw': None, 'eyes_raw': None, 'images': [{'large': 'https://www.fbi.gov/wanted/terrorinfo/hamza-bin-laden/@@images/image/large', 'caption': None, 'thumb': 'https://www.fbi.gov/wanted/terrorinfo/hamza-bin-laden/@@images/image/thumb', 'original': 'https://www.fbi.gov/wanted/terrorinfo/hamza-bin-laden/@@images/image'}], 'nationality': None, 'scars_and_marks': None, 'aliases': ['Hamzah bin Osama bin Mohammed bin Awad bin Laden', 'Salman al-Khayr'], 'hair': None, 'ncic': None, 'caution': None, 'publication': '2019-03-25T09:26:00', 'age_max': None, 'possible_countries': None, 'locations': None, 'sex': 'Male', 'legat_names': None, 'person_classification': 'Main', 'uid': '9d6dab1d5b154c4d8be318935aa68714', 'weight': None, 'occupations': None, 'files': [{'url': 'https://www.fbi.gov/wanted/terrorinfo/hamza-bin-laden/download.pdf', 'name': 'English'}, {'url': 'https://www.fbi.gov/wanted/terrorinfo/hamza-bin-laden/hamzabinladenarabic.pdf/@@download/file/hamzabinladenarabic.pdf', 'name': 'باللغة العربية'}, {'url': 'https://www.fbi.gov/wanted/terrorinfo/hamza-bin-laden/hamzabinladendari.pdf/@@download/file/hamzabinladendari.pdf', 'name': 'دری'}, {'url': 'https://www.fbi.gov/wanted/terrorinfo/hamza-bin-laden/hamzabinladenpashto.pdf/@@download/file/hamzabinladenpashto.pdf', 'name': 'پښتو'}, {'url': 'https://www.fbi.gov/wanted/terrorinfo/hamza-bin-laden/hamzabinladenurdu.pdf/@@download/file/hamzabinladenurdu.pdf', 'name': 'اردو میں'}, {'url': 'https://www.fbi.gov/wanted/terrorinfo/hamza-bin-laden/hamzabinladenfarsi.pdf/@@download/file/hamzabinladenfarsi.pdf', 'name': 'به زبان فارسی'}], 'height_min': None, 'reward_text': 'The Rewards For Justice Program, United States Department of State, is offering a reward of up to $1 million for information leading to the whereabouts of Hamza bin Laden.', 'warning_message': 'SHOULD BE CONSIDERED ARMED AND DANGEROUS', 'languages': None, 'height_max': None, 'weight_min': None, 'complexion': 'Medium', 'build': None, 'details': '<p>Hamza bin Laden is wanted for questioning\\xa0in connection with his membership in the Al Qaeda organization and his public declarations threatening the security of the United States.\\xa0</p>\\r\\n<p>\\xa0</p>', 'reward_max': 0, 'possible_states': None, 'coordinates': [], 'weight_max': None, 'suspects': None, 'age_range': None, 'reward_min': 0, 'title': 'HAMZA BIN LADEN', 'remarks': '<p>Hamza bin Laden is known to speak Arabic.\\xa0 He has ties to, and may be located in, the countries of Afghanistan, Pakistan, Syria, or Iran.</p>\\r\\n<p>\\xa0</p>\\r\\n<p>Investigators believe Hamza bin Laden is married to the daughter of Al Qaeda senior leader <a href=\"https://www.fbi.gov/wanted/wanted_terrorists/abdullah-ahmed-abdullah\" data-linktype=\"external\" data-urltype=\"/view\" data-val=\"https://www.fbi.gov/wanted/wanted_terrorists/abdullah-ahmed-abdullah\">Abdullah Ahmed Abdullah</a>, aka Abu Muhammad al Masri, who has been indicted for his alleged involvement in the August 7, 1998, bombings of the United States Embassies in Tanzania and Kenya.</p>', 'path': '/wanted/terrorinfo/hamza-bin-laden', 'dates_of_birth_used': ['1989'], 'subjects': ['Seeking Information - Terrorism'], 'age_min': None, 'field_offices': ['newyork'], 'additional_information': None, 'status': 'na', 'eyes': None, 'description': '', '@id': 'https://api.fbi.gov/@wanted-person/9d6dab1d5b154c4d8be318935aa68714'}, {'race': 'white', 'place_of_birth': 'Tehran, Iran', 'url': 'https://www.fbi.gov/wanted/wcc/farhad-fred-monem', 'modified': '2019-05-08T14:14:48+00:00', 'hair_raw': 'Black', 'race_raw': 'White (Persian)', 'eyes_raw': 'Brown', 'images': [{'large': 'https://www.fbi.gov/wanted/wcc/farhad-fred-monem/@@images/image/large', 'caption': None, 'thumb': 'https://www.fbi.gov/wanted/wcc/farhad-fred-monem/@@images/image/thumb', 'original': 'https://www.fbi.gov/wanted/wcc/farhad-fred-monem/@@images/image'}], 'nationality': 'Iranian', 'scars_and_marks': 'None known', 'aliases': ['Fred Monem'], 'hair': 'black', 'ncic': 'W723324333', 'caution': '<p>On October 19, 2007, a federal grand jury in Eugene, Oregon, indicted Farhad \"Fred\" Monem on twenty counts relating to an alleged bribery scheme. The charges stem from Monem\\'s former employment as the food services administrator for the Oregon Department of Corrections. He faces conspiracy, mail fraud, wire fraud, bribery, money laundering, and interstate travel in aid of racketeering charges.</p>', 'publication': '2010-08-17T12:30:00', 'age_max': None, 'possible_countries': ['CAN'], 'locations': None, 'sex': 'Male', 'legat_names': None, 'person_classification': 'Main', 'uid': '40cae769220c0a2c4dac0b799d9abbff', 'weight': '210 pounds', 'occupations': ['Prison Food Buyer and Food Salesman'], 'files': [{'url': 'https://www.fbi.gov/wanted/wcc/farhad-fred-monem/download.pdf', 'name': 'English'}, {'url': 'https://www.fbi.gov/wanted/wcc/farhad-fred-monem/monemfarsi.pdf/@@download/file/monemfarsi.pdf', 'name': 'به زبان فارسی'}], 'height_min': 70, 'reward_text': 'The FBI is offering a reward of up to $20,000 for information leading to the arrest and conviction of Farhad Monem.', 'warning_message': None, 'languages': None, 'height_max': 70, 'weight_min': 210, 'complexion': None, 'build': None, 'details': None, 'reward_max': 99999, 'possible_states': ['US-CA', 'US-NY', 'US-OR'], 'coordinates': [], 'weight_max': 210, 'suspects': None, 'age_range': None, 'reward_min': 10000, 'title': 'FARHAD \"FRED\" MONEM', 'remarks': '<p>Monem speaks both Farsi and English. He is a naturalized American citizen. Monem is known to have traveled to Buffalo, New York, on July 1, 2007, and has ties to California, Canada, and Iran. It is alleged that he is a heavy user of marijuana, hashish, and alcohol. He also likes to gamble.</p>', 'path': '/wanted/wcc/farhad-fred-monem', 'dates_of_birth_used': ['July 30, 1958'], 'subjects': ['White-Collar Crime'], 'age_min': None, 'field_offices': ['portland'], 'additional_information': None, 'status': 'na', 'eyes': 'brown', 'description': 'Conspiracy; Mail Fraud; Wire Fraud; Bribery; Money Laundering; Interstate Travel in Aid of Racketeering', '@id': 'https://api.fbi.gov/@wanted-person/40cae769220c0a2c4dac0b799d9abbff'}]\n",
            "1\n"
          ],
          "name": "stdout"
        }
      ]
    },
    {
      "cell_type": "code",
      "metadata": {
        "id": "zBjTKd3lh2Gs",
        "colab_type": "code",
        "outputId": "d62f0c7e-86ce-40f3-9bbf-28c2c3e812b2",
        "colab": {
          "base_uri": "https://localhost:8080/",
          "height": 54
        }
      },
      "source": [
        "data['items'][0].keys()"
      ],
      "execution_count": 16,
      "outputs": [
        {
          "output_type": "execute_result",
          "data": {
            "text/plain": [
              "dict_keys(['race', 'place_of_birth', 'url', 'modified', 'hair_raw', 'race_raw', 'eyes_raw', 'images', 'nationality', 'scars_and_marks', 'aliases', 'hair', 'ncic', 'caution', 'publication', 'age_max', 'possible_countries', 'locations', 'sex', 'legat_names', 'person_classification', 'uid', 'weight', 'occupations', 'files', 'height_min', 'reward_text', 'warning_message', 'languages', 'height_max', 'weight_min', 'complexion', 'build', 'details', 'reward_max', 'possible_states', 'coordinates', 'weight_max', 'suspects', 'age_range', 'reward_min', 'title', 'remarks', 'path', 'dates_of_birth_used', 'subjects', 'age_min', 'field_offices', 'additional_information', 'status', 'eyes', 'description', '@id'])"
            ]
          },
          "metadata": {
            "tags": []
          },
          "execution_count": 16
        }
      ]
    },
    {
      "cell_type": "code",
      "metadata": {
        "id": "eyO2Kqz9joS3",
        "colab_type": "code",
        "colab": {}
      },
      "source": [
        "cols = ['race', 'place_of_birth', 'url', 'modified', 'hair_raw', 'race_raw', 'eyes_raw', 'images', 'nationality', 'scars_and_marks', 'aliases', 'hair', 'ncic', 'caution', 'publication', 'age_max', 'possible_countries', 'locations', 'sex', 'legat_names', 'person_classification', 'uid', 'weight', 'occupations', 'files', 'height_min', 'reward_text', 'warning_message', 'languages', 'height_max', 'weight_min', 'complexion', 'build', 'details', 'reward_max', 'possible_states', 'coordinates', 'weight_max', 'suspects', 'age_range', 'reward_min', 'title', 'remarks', 'path', 'dates_of_birth_used', 'subjects', 'age_min', 'field_offices', 'additional_information', 'status', 'eyes', 'description', '@id']"
      ],
      "execution_count": 0,
      "outputs": []
    },
    {
      "cell_type": "code",
      "metadata": {
        "id": "dFqvT-t7d3vV",
        "colab_type": "code",
        "colab": {
          "base_uri": "https://localhost:8080/",
          "height": 564
        },
        "outputId": "68b01b97-e0a6-4d3e-fbd7-8edd4c7d8394"
      },
      "source": [
        "wanted_list = []\n",
        "df = pd.DataFrame(data['items'])\n",
        "df.head()"
      ],
      "execution_count": 23,
      "outputs": [
        {
          "output_type": "execute_result",
          "data": {
            "text/html": [
              "<div>\n",
              "<style scoped>\n",
              "    .dataframe tbody tr th:only-of-type {\n",
              "        vertical-align: middle;\n",
              "    }\n",
              "\n",
              "    .dataframe tbody tr th {\n",
              "        vertical-align: top;\n",
              "    }\n",
              "\n",
              "    .dataframe thead th {\n",
              "        text-align: right;\n",
              "    }\n",
              "</style>\n",
              "<table border=\"1\" class=\"dataframe\">\n",
              "  <thead>\n",
              "    <tr style=\"text-align: right;\">\n",
              "      <th></th>\n",
              "      <th>@id</th>\n",
              "      <th>additional_information</th>\n",
              "      <th>age_max</th>\n",
              "      <th>age_min</th>\n",
              "      <th>age_range</th>\n",
              "      <th>aliases</th>\n",
              "      <th>build</th>\n",
              "      <th>caution</th>\n",
              "      <th>complexion</th>\n",
              "      <th>coordinates</th>\n",
              "      <th>dates_of_birth_used</th>\n",
              "      <th>description</th>\n",
              "      <th>details</th>\n",
              "      <th>eyes</th>\n",
              "      <th>eyes_raw</th>\n",
              "      <th>field_offices</th>\n",
              "      <th>files</th>\n",
              "      <th>hair</th>\n",
              "      <th>hair_raw</th>\n",
              "      <th>height_max</th>\n",
              "      <th>height_min</th>\n",
              "      <th>images</th>\n",
              "      <th>languages</th>\n",
              "      <th>legat_names</th>\n",
              "      <th>locations</th>\n",
              "      <th>modified</th>\n",
              "      <th>nationality</th>\n",
              "      <th>ncic</th>\n",
              "      <th>occupations</th>\n",
              "      <th>path</th>\n",
              "      <th>person_classification</th>\n",
              "      <th>place_of_birth</th>\n",
              "      <th>possible_countries</th>\n",
              "      <th>possible_states</th>\n",
              "      <th>publication</th>\n",
              "      <th>race</th>\n",
              "      <th>race_raw</th>\n",
              "      <th>remarks</th>\n",
              "      <th>reward_max</th>\n",
              "      <th>reward_min</th>\n",
              "      <th>reward_text</th>\n",
              "      <th>scars_and_marks</th>\n",
              "      <th>sex</th>\n",
              "      <th>status</th>\n",
              "      <th>subjects</th>\n",
              "      <th>suspects</th>\n",
              "      <th>title</th>\n",
              "      <th>uid</th>\n",
              "      <th>url</th>\n",
              "      <th>warning_message</th>\n",
              "      <th>weight</th>\n",
              "      <th>weight_max</th>\n",
              "      <th>weight_min</th>\n",
              "    </tr>\n",
              "  </thead>\n",
              "  <tbody>\n",
              "    <tr>\n",
              "      <th>0</th>\n",
              "      <td>https://api.fbi.gov/@wanted-person/24127258-19...</td>\n",
              "      <td>None</td>\n",
              "      <td>NaN</td>\n",
              "      <td>NaN</td>\n",
              "      <td>None</td>\n",
              "      <td>None</td>\n",
              "      <td>None</td>\n",
              "      <td>None</td>\n",
              "      <td>None</td>\n",
              "      <td>[]</td>\n",
              "      <td>[February 13, 2002]</td>\n",
              "      <td>May 25, 2011\\r\\nSaipan, Northern Mariana Islands</td>\n",
              "      <td>&lt;p&gt;Maleina and &lt;a href=\"https://www.fbi.gov/wa...</td>\n",
              "      <td>brown</td>\n",
              "      <td>Brown</td>\n",
              "      <td>[honolulu]</td>\n",
              "      <td>[{'url': 'https://www.fbi.gov/wanted/kidnap/ma...</td>\n",
              "      <td>brown</td>\n",
              "      <td>Brown</td>\n",
              "      <td>48.0</td>\n",
              "      <td>48.0</td>\n",
              "      <td>[{'large': 'https://www.fbi.gov/wanted/kidnap/...</td>\n",
              "      <td>None</td>\n",
              "      <td>None</td>\n",
              "      <td>None</td>\n",
              "      <td>2019-05-23T22:24:42+00:00</td>\n",
              "      <td>American</td>\n",
              "      <td>None</td>\n",
              "      <td>None</td>\n",
              "      <td>/wanted/kidnap/maleina-luhk</td>\n",
              "      <td>Main</td>\n",
              "      <td>Saipan, Northern Mariana Islands</td>\n",
              "      <td>None</td>\n",
              "      <td>None</td>\n",
              "      <td>2014-10-14T07:00:00</td>\n",
              "      <td>asian</td>\n",
              "      <td>Asian (Pacific Islander)</td>\n",
              "      <td>&lt;p&gt;Maleina was last seen wearing a white blous...</td>\n",
              "      <td>0</td>\n",
              "      <td>0</td>\n",
              "      <td>The FBI is offering a reward of up to $25,000 ...</td>\n",
              "      <td>Maleina has a birthmark on her left cheek.</td>\n",
              "      <td>Female</td>\n",
              "      <td>na</td>\n",
              "      <td>[Kidnappings and Missing Persons]</td>\n",
              "      <td>None</td>\n",
              "      <td>MALEINA LUHK</td>\n",
              "      <td>24127258-198b-479c-b6be-85e88bee539d</td>\n",
              "      <td>https://www.fbi.gov/wanted/kidnap/maleina-luhk</td>\n",
              "      <td>None</td>\n",
              "      <td>65 pounds (at time of disappearance)</td>\n",
              "      <td>65.0</td>\n",
              "      <td>65.0</td>\n",
              "    </tr>\n",
              "    <tr>\n",
              "      <th>1</th>\n",
              "      <td>https://api.fbi.gov/@wanted-person/841529a7-2d...</td>\n",
              "      <td>None</td>\n",
              "      <td>NaN</td>\n",
              "      <td>NaN</td>\n",
              "      <td>None</td>\n",
              "      <td>None</td>\n",
              "      <td>None</td>\n",
              "      <td>None</td>\n",
              "      <td>None</td>\n",
              "      <td>[]</td>\n",
              "      <td>[February 9, 2001]</td>\n",
              "      <td>May 25, 2011\\r\\nSaipan, Northern Mariana Islands</td>\n",
              "      <td>&lt;p&gt;Faloma and &lt;a href=\"https://www.fbi.gov/wan...</td>\n",
              "      <td>brown</td>\n",
              "      <td>Brown</td>\n",
              "      <td>[honolulu]</td>\n",
              "      <td>[{'url': 'https://www.fbi.gov/wanted/kidnap/fa...</td>\n",
              "      <td>brown</td>\n",
              "      <td>Brown</td>\n",
              "      <td>61.0</td>\n",
              "      <td>61.0</td>\n",
              "      <td>[{'large': 'https://www.fbi.gov/wanted/kidnap/...</td>\n",
              "      <td>None</td>\n",
              "      <td>None</td>\n",
              "      <td>None</td>\n",
              "      <td>2019-05-23T22:23:49+00:00</td>\n",
              "      <td>American</td>\n",
              "      <td>None</td>\n",
              "      <td>None</td>\n",
              "      <td>/wanted/kidnap/faloma-luhk</td>\n",
              "      <td>Main</td>\n",
              "      <td>Saipan, Northern Mariana Islands</td>\n",
              "      <td>None</td>\n",
              "      <td>None</td>\n",
              "      <td>2014-10-14T07:00:00</td>\n",
              "      <td>asian</td>\n",
              "      <td>Asian (Pacific Islander)</td>\n",
              "      <td>&lt;p&gt;Faloma was last seen wearing a light green ...</td>\n",
              "      <td>0</td>\n",
              "      <td>0</td>\n",
              "      <td>The FBI is offering a reward of up to $25,000 ...</td>\n",
              "      <td>None</td>\n",
              "      <td>Female</td>\n",
              "      <td>na</td>\n",
              "      <td>[Kidnappings and Missing Persons]</td>\n",
              "      <td>None</td>\n",
              "      <td>FALOMA LUHK</td>\n",
              "      <td>841529a7-2d02-4cfa-9027-6d5a1951c66d</td>\n",
              "      <td>https://www.fbi.gov/wanted/kidnap/faloma-luhk</td>\n",
              "      <td>None</td>\n",
              "      <td>90 pounds (at time of disappearance)</td>\n",
              "      <td>90.0</td>\n",
              "      <td>90.0</td>\n",
              "    </tr>\n",
              "    <tr>\n",
              "      <th>2</th>\n",
              "      <td>https://api.fbi.gov/@wanted-person/bfe2ec634cd...</td>\n",
              "      <td>None</td>\n",
              "      <td>NaN</td>\n",
              "      <td>NaN</td>\n",
              "      <td>None</td>\n",
              "      <td>[Octavio Curielmartinez, Martinez Octavio Curi...</td>\n",
              "      <td>None</td>\n",
              "      <td>&lt;p&gt;Octavio Curiel Martinez is wanted for his a...</td>\n",
              "      <td>None</td>\n",
              "      <td>[]</td>\n",
              "      <td>[April 20, 1982]</td>\n",
              "      <td>Unlawful Flight to Avoid Prosecution - Murder ...</td>\n",
              "      <td>None</td>\n",
              "      <td>brown</td>\n",
              "      <td>Brown</td>\n",
              "      <td>[losangeles]</td>\n",
              "      <td>[{'url': 'https://www.fbi.gov/wanted/murders/o...</td>\n",
              "      <td>brown</td>\n",
              "      <td>Brown</td>\n",
              "      <td>67.0</td>\n",
              "      <td>66.0</td>\n",
              "      <td>[{'large': 'https://www.fbi.gov/wanted/murders...</td>\n",
              "      <td>None</td>\n",
              "      <td>None</td>\n",
              "      <td>None</td>\n",
              "      <td>2019-05-23T12:17:06+00:00</td>\n",
              "      <td>None</td>\n",
              "      <td>W836310557</td>\n",
              "      <td>None</td>\n",
              "      <td>/wanted/murders/octavio-curiel-martinez</td>\n",
              "      <td>Main</td>\n",
              "      <td>Mexico</td>\n",
              "      <td>None</td>\n",
              "      <td>None</td>\n",
              "      <td>2019-03-29T13:31:00</td>\n",
              "      <td>hispanic</td>\n",
              "      <td>White (Hispanic)</td>\n",
              "      <td>&lt;p&gt;Martinez has previously resided in El Monte...</td>\n",
              "      <td>0</td>\n",
              "      <td>0</td>\n",
              "      <td>The FBI is offering a reward of up to $10,000 ...</td>\n",
              "      <td>None</td>\n",
              "      <td>Male</td>\n",
              "      <td>na</td>\n",
              "      <td>[Violent Crimes - Murders]</td>\n",
              "      <td>None</td>\n",
              "      <td>OCTAVIO CURIEL MARTINEZ</td>\n",
              "      <td>bfe2ec634cd2426381e73f669fff1fce</td>\n",
              "      <td>https://www.fbi.gov/wanted/murders/octavio-cur...</td>\n",
              "      <td>SHOULD BE CONSIDERED ARMED AND DANGEROUS</td>\n",
              "      <td>190 to 204 pounds</td>\n",
              "      <td>204.0</td>\n",
              "      <td>190.0</td>\n",
              "    </tr>\n",
              "    <tr>\n",
              "      <th>3</th>\n",
              "      <td>https://api.fbi.gov/@wanted-person/52e97318708...</td>\n",
              "      <td>None</td>\n",
              "      <td>NaN</td>\n",
              "      <td>NaN</td>\n",
              "      <td>None</td>\n",
              "      <td>[\"Key Man\", Keyman Conley, Marqui Dee Conley, ...</td>\n",
              "      <td>None</td>\n",
              "      <td>&lt;p&gt;Marqui Conley, a known co-leader of the All...</td>\n",
              "      <td>None</td>\n",
              "      <td>[]</td>\n",
              "      <td>[February 24, 1993, February 24, 1992, Februar...</td>\n",
              "      <td>Conspiracy to Possess and Possession with Inte...</td>\n",
              "      <td>None</td>\n",
              "      <td>brown</td>\n",
              "      <td>Brown</td>\n",
              "      <td>[cincinnati]</td>\n",
              "      <td>[{'url': 'https://www.fbi.gov/wanted/cei/marqu...</td>\n",
              "      <td>black</td>\n",
              "      <td>Black</td>\n",
              "      <td>71.0</td>\n",
              "      <td>70.0</td>\n",
              "      <td>[{'large': 'https://www.fbi.gov/wanted/cei/mar...</td>\n",
              "      <td>None</td>\n",
              "      <td>None</td>\n",
              "      <td>None</td>\n",
              "      <td>2019-05-23T10:10:40+00:00</td>\n",
              "      <td>None</td>\n",
              "      <td>W996733952</td>\n",
              "      <td>None</td>\n",
              "      <td>/wanted/cei/marqui-conley</td>\n",
              "      <td>Main</td>\n",
              "      <td>Ohio</td>\n",
              "      <td>None</td>\n",
              "      <td>None</td>\n",
              "      <td>2019-05-10T09:04:00</td>\n",
              "      <td>black</td>\n",
              "      <td>Black</td>\n",
              "      <td>&lt;p&gt;Conley has previously resided in Middletown...</td>\n",
              "      <td>0</td>\n",
              "      <td>0</td>\n",
              "      <td>None</td>\n",
              "      <td>Conley has a tattoo on his left arm.</td>\n",
              "      <td>Male</td>\n",
              "      <td>na</td>\n",
              "      <td>[Criminal Enterprise Investigations]</td>\n",
              "      <td>None</td>\n",
              "      <td>MARQUI CONLEY</td>\n",
              "      <td>52e97318708143a2978f1b273c1c7d25</td>\n",
              "      <td>https://www.fbi.gov/wanted/cei/marqui-conley</td>\n",
              "      <td>SHOULD BE CONSIDERED ARMED AND DANGEROUS</td>\n",
              "      <td>175 pounds</td>\n",
              "      <td>175.0</td>\n",
              "      <td>175.0</td>\n",
              "    </tr>\n",
              "    <tr>\n",
              "      <th>4</th>\n",
              "      <td>https://api.fbi.gov/@wanted-person/39ee4223ec0...</td>\n",
              "      <td>None</td>\n",
              "      <td>NaN</td>\n",
              "      <td>NaN</td>\n",
              "      <td>None</td>\n",
              "      <td>[Dennis Brown, Dennie Cunningham, Muhammad Cun...</td>\n",
              "      <td>None</td>\n",
              "      <td>&lt;p&gt;Dennis M. Cunningham, a convicted felon, is...</td>\n",
              "      <td>None</td>\n",
              "      <td>[]</td>\n",
              "      <td>[September 15, 1969]</td>\n",
              "      <td>Unlawful Flight to Avoid Prosecution - Murder,...</td>\n",
              "      <td>None</td>\n",
              "      <td>brown</td>\n",
              "      <td>Brown</td>\n",
              "      <td>[newark]</td>\n",
              "      <td>[{'url': 'https://www.fbi.gov/wanted/murders/d...</td>\n",
              "      <td>black</td>\n",
              "      <td>Black (May be Bald)</td>\n",
              "      <td>74.0</td>\n",
              "      <td>74.0</td>\n",
              "      <td>[{'large': 'https://www.fbi.gov/wanted/murders...</td>\n",
              "      <td>None</td>\n",
              "      <td>None</td>\n",
              "      <td>None</td>\n",
              "      <td>2019-05-23T10:10:13+00:00</td>\n",
              "      <td>American</td>\n",
              "      <td>W161921223</td>\n",
              "      <td>None</td>\n",
              "      <td>/wanted/murders/dennis-m-cunningham</td>\n",
              "      <td>Main</td>\n",
              "      <td>New Jersey</td>\n",
              "      <td>None</td>\n",
              "      <td>None</td>\n",
              "      <td>2019-05-13T13:01:00</td>\n",
              "      <td>black</td>\n",
              "      <td>Black</td>\n",
              "      <td>&lt;p&gt;Cunningham has ties to Irvington and Newark...</td>\n",
              "      <td>0</td>\n",
              "      <td>0</td>\n",
              "      <td>None</td>\n",
              "      <td>Cunningham has a tattoo on his left arm and a ...</td>\n",
              "      <td>Male</td>\n",
              "      <td>na</td>\n",
              "      <td>[Violent Crime - Murders, Case of the Week]</td>\n",
              "      <td>None</td>\n",
              "      <td>DENNIS M. CUNNINGHAM</td>\n",
              "      <td>39ee4223ec05483488efa2d05d812cc2</td>\n",
              "      <td>https://www.fbi.gov/wanted/murders/dennis-m-cu...</td>\n",
              "      <td>SHOULD BE CONSIDERED ARMED AND DANGEROUS</td>\n",
              "      <td>200 to 220 pounds</td>\n",
              "      <td>220.0</td>\n",
              "      <td>200.0</td>\n",
              "    </tr>\n",
              "  </tbody>\n",
              "</table>\n",
              "</div>"
            ],
            "text/plain": [
              "                                                 @id  ... weight_min\n",
              "0  https://api.fbi.gov/@wanted-person/24127258-19...  ...       65.0\n",
              "1  https://api.fbi.gov/@wanted-person/841529a7-2d...  ...       90.0\n",
              "2  https://api.fbi.gov/@wanted-person/bfe2ec634cd...  ...      190.0\n",
              "3  https://api.fbi.gov/@wanted-person/52e97318708...  ...      175.0\n",
              "4  https://api.fbi.gov/@wanted-person/39ee4223ec0...  ...      200.0\n",
              "\n",
              "[5 rows x 53 columns]"
            ]
          },
          "metadata": {
            "tags": []
          },
          "execution_count": 23
        }
      ]
    },
    {
      "cell_type": "code",
      "metadata": {
        "id": "9EnKgsKReasv",
        "colab_type": "code",
        "colab": {
          "base_uri": "https://localhost:8080/",
          "height": 669
        },
        "outputId": "6ae90045-e2b7-43d3-e2d8-b8268fe2b551"
      },
      "source": [
        "df[['title','warning_message']]"
      ],
      "execution_count": 26,
      "outputs": [
        {
          "output_type": "execute_result",
          "data": {
            "text/html": [
              "<div>\n",
              "<style scoped>\n",
              "    .dataframe tbody tr th:only-of-type {\n",
              "        vertical-align: middle;\n",
              "    }\n",
              "\n",
              "    .dataframe tbody tr th {\n",
              "        vertical-align: top;\n",
              "    }\n",
              "\n",
              "    .dataframe thead th {\n",
              "        text-align: right;\n",
              "    }\n",
              "</style>\n",
              "<table border=\"1\" class=\"dataframe\">\n",
              "  <thead>\n",
              "    <tr style=\"text-align: right;\">\n",
              "      <th></th>\n",
              "      <th>title</th>\n",
              "      <th>warning_message</th>\n",
              "    </tr>\n",
              "  </thead>\n",
              "  <tbody>\n",
              "    <tr>\n",
              "      <th>0</th>\n",
              "      <td>MALEINA LUHK</td>\n",
              "      <td>None</td>\n",
              "    </tr>\n",
              "    <tr>\n",
              "      <th>1</th>\n",
              "      <td>FALOMA LUHK</td>\n",
              "      <td>None</td>\n",
              "    </tr>\n",
              "    <tr>\n",
              "      <th>2</th>\n",
              "      <td>OCTAVIO CURIEL MARTINEZ</td>\n",
              "      <td>SHOULD BE CONSIDERED ARMED AND DANGEROUS</td>\n",
              "    </tr>\n",
              "    <tr>\n",
              "      <th>3</th>\n",
              "      <td>MARQUI CONLEY</td>\n",
              "      <td>SHOULD BE CONSIDERED ARMED AND DANGEROUS</td>\n",
              "    </tr>\n",
              "    <tr>\n",
              "      <th>4</th>\n",
              "      <td>DENNIS M. CUNNINGHAM</td>\n",
              "      <td>SHOULD BE CONSIDERED ARMED AND DANGEROUS</td>\n",
              "    </tr>\n",
              "    <tr>\n",
              "      <th>5</th>\n",
              "      <td>WILLIAM EBENEEZER JONES, JR.</td>\n",
              "      <td>None</td>\n",
              "    </tr>\n",
              "    <tr>\n",
              "      <th>6</th>\n",
              "      <td>MYRA LEWIS</td>\n",
              "      <td>None</td>\n",
              "    </tr>\n",
              "    <tr>\n",
              "      <th>7</th>\n",
              "      <td>DIAMOND YVETTE BRADLEY</td>\n",
              "      <td>None</td>\n",
              "    </tr>\n",
              "    <tr>\n",
              "      <th>8</th>\n",
              "      <td>TIONDA Z. BRADLEY</td>\n",
              "      <td>None</td>\n",
              "    </tr>\n",
              "    <tr>\n",
              "      <th>9</th>\n",
              "      <td>GOZNYM SUBJECTS</td>\n",
              "      <td>THESE INDIVIDUALS SHOULD BE CONSIDERED AN INTE...</td>\n",
              "    </tr>\n",
              "    <tr>\n",
              "      <th>10</th>\n",
              "      <td>ANGELINA PRESSLEY</td>\n",
              "      <td>None</td>\n",
              "    </tr>\n",
              "    <tr>\n",
              "      <th>11</th>\n",
              "      <td>ARANZA MARIA OCHOA LOPEZ</td>\n",
              "      <td>None</td>\n",
              "    </tr>\n",
              "    <tr>\n",
              "      <th>12</th>\n",
              "      <td>CHARLES LEE HILL</td>\n",
              "      <td>SHOULD BE CONSIDERED ARMED AND DANGEROUS</td>\n",
              "    </tr>\n",
              "    <tr>\n",
              "      <th>13</th>\n",
              "      <td>ALORA DANIELLE BENITEZ</td>\n",
              "      <td>None</td>\n",
              "    </tr>\n",
              "    <tr>\n",
              "      <th>14</th>\n",
              "      <td>DONNA JOAN BORUP</td>\n",
              "      <td>SHOULD BE CONSIDERED ARMED AND DANGEROUS</td>\n",
              "    </tr>\n",
              "    <tr>\n",
              "      <th>15</th>\n",
              "      <td>GREGORY ROBERT WHITEHEAD</td>\n",
              "      <td>None</td>\n",
              "    </tr>\n",
              "    <tr>\n",
              "      <th>16</th>\n",
              "      <td>FUJIE WANG</td>\n",
              "      <td>None</td>\n",
              "    </tr>\n",
              "    <tr>\n",
              "      <th>17</th>\n",
              "      <td>JANE DOE - GLENNIE, MICHIGAN</td>\n",
              "      <td>None</td>\n",
              "    </tr>\n",
              "    <tr>\n",
              "      <th>18</th>\n",
              "      <td>HAMZA BIN LADEN</td>\n",
              "      <td>SHOULD BE CONSIDERED ARMED AND DANGEROUS</td>\n",
              "    </tr>\n",
              "    <tr>\n",
              "      <th>19</th>\n",
              "      <td>FARHAD \"FRED\" MONEM</td>\n",
              "      <td>None</td>\n",
              "    </tr>\n",
              "  </tbody>\n",
              "</table>\n",
              "</div>"
            ],
            "text/plain": [
              "                           title                                    warning_message\n",
              "0                   MALEINA LUHK                                               None\n",
              "1                    FALOMA LUHK                                               None\n",
              "2        OCTAVIO CURIEL MARTINEZ           SHOULD BE CONSIDERED ARMED AND DANGEROUS\n",
              "3                  MARQUI CONLEY           SHOULD BE CONSIDERED ARMED AND DANGEROUS\n",
              "4           DENNIS M. CUNNINGHAM           SHOULD BE CONSIDERED ARMED AND DANGEROUS\n",
              "5   WILLIAM EBENEEZER JONES, JR.                                               None\n",
              "6                     MYRA LEWIS                                               None\n",
              "7         DIAMOND YVETTE BRADLEY                                               None\n",
              "8              TIONDA Z. BRADLEY                                               None\n",
              "9                GOZNYM SUBJECTS  THESE INDIVIDUALS SHOULD BE CONSIDERED AN INTE...\n",
              "10             ANGELINA PRESSLEY                                               None\n",
              "11      ARANZA MARIA OCHOA LOPEZ                                               None\n",
              "12              CHARLES LEE HILL           SHOULD BE CONSIDERED ARMED AND DANGEROUS\n",
              "13        ALORA DANIELLE BENITEZ                                               None\n",
              "14              DONNA JOAN BORUP           SHOULD BE CONSIDERED ARMED AND DANGEROUS\n",
              "15      GREGORY ROBERT WHITEHEAD                                               None\n",
              "16                    FUJIE WANG                                               None\n",
              "17  JANE DOE - GLENNIE, MICHIGAN                                               None\n",
              "18               HAMZA BIN LADEN           SHOULD BE CONSIDERED ARMED AND DANGEROUS\n",
              "19           FARHAD \"FRED\" MONEM                                               None"
            ]
          },
          "metadata": {
            "tags": []
          },
          "execution_count": 26
        }
      ]
    },
    {
      "cell_type": "code",
      "metadata": {
        "id": "0x1MN4V0ewl_",
        "colab_type": "code",
        "colab": {
          "base_uri": "https://localhost:8080/",
          "height": 935
        },
        "outputId": "e3f97185-3f8d-4ef1-b240-9580f51c4fc4"
      },
      "source": [
        "df.iloc[18]"
      ],
      "execution_count": 27,
      "outputs": [
        {
          "output_type": "execute_result",
          "data": {
            "text/plain": [
              "@id                       https://api.fbi.gov/@wanted-person/9d6dab1d5b1...\n",
              "additional_information                                                 None\n",
              "age_max                                                                 NaN\n",
              "age_min                                                                 NaN\n",
              "age_range                                                              None\n",
              "aliases                   [Hamzah bin Osama bin Mohammed bin Awad bin La...\n",
              "build                                                                  None\n",
              "caution                                                                None\n",
              "complexion                                                           Medium\n",
              "coordinates                                                              []\n",
              "dates_of_birth_used                                                  [1989]\n",
              "description                                                                \n",
              "details                   <p>Hamza bin Laden is wanted for questioning i...\n",
              "eyes                                                                   None\n",
              "eyes_raw                                                               None\n",
              "field_offices                                                     [newyork]\n",
              "files                     [{'url': 'https://www.fbi.gov/wanted/terrorinf...\n",
              "hair                                                                   None\n",
              "hair_raw                                                               None\n",
              "height_max                                                              NaN\n",
              "height_min                                                              NaN\n",
              "images                    [{'large': 'https://www.fbi.gov/wanted/terrori...\n",
              "languages                                                              None\n",
              "legat_names                                                            None\n",
              "locations                                                              None\n",
              "modified                                          2019-05-09T11:19:21+00:00\n",
              "nationality                                                            None\n",
              "ncic                                                                   None\n",
              "occupations                                                            None\n",
              "path                                     /wanted/terrorinfo/hamza-bin-laden\n",
              "person_classification                                                  Main\n",
              "place_of_birth                                         Jeddah, Saudi Arabia\n",
              "possible_countries                                                     None\n",
              "possible_states                                                        None\n",
              "publication                                             2019-03-25T09:26:00\n",
              "race                                                                   None\n",
              "race_raw                                                               None\n",
              "remarks                   <p>Hamza bin Laden is known to speak Arabic.  ...\n",
              "reward_max                                                                0\n",
              "reward_min                                                                0\n",
              "reward_text               The Rewards For Justice Program, United States...\n",
              "scars_and_marks                                                        None\n",
              "sex                                                                    Male\n",
              "status                                                                   na\n",
              "subjects                                  [Seeking Information - Terrorism]\n",
              "suspects                                                               None\n",
              "title                                                       HAMZA BIN LADEN\n",
              "uid                                        9d6dab1d5b154c4d8be318935aa68714\n",
              "url                       https://www.fbi.gov/wanted/terrorinfo/hamza-bi...\n",
              "warning_message                    SHOULD BE CONSIDERED ARMED AND DANGEROUS\n",
              "weight                                                                 None\n",
              "weight_max                                                              NaN\n",
              "weight_min                                                              NaN\n",
              "Name: 18, dtype: object"
            ]
          },
          "metadata": {
            "tags": []
          },
          "execution_count": 27
        }
      ]
    },
    {
      "cell_type": "code",
      "metadata": {
        "id": "FuXOcoICfFYG",
        "colab_type": "code",
        "colab": {}
      },
      "source": [
        "df.to_excel('fbi-wanted.xlsx')"
      ],
      "execution_count": 0,
      "outputs": []
    },
    {
      "cell_type": "code",
      "metadata": {
        "id": "5Kvojpt0fjQz",
        "colab_type": "code",
        "colab": {}
      },
      "source": [
        ""
      ],
      "execution_count": 0,
      "outputs": []
    },
    {
      "cell_type": "code",
      "metadata": {
        "id": "_fJgL8QAfjmN",
        "colab_type": "code",
        "colab": {}
      },
      "source": [
        ""
      ],
      "execution_count": 0,
      "outputs": []
    },
    {
      "cell_type": "code",
      "metadata": {
        "id": "KY8T9mCWfj3A",
        "colab_type": "code",
        "colab": {}
      },
      "source": [
        ""
      ],
      "execution_count": 0,
      "outputs": []
    },
    {
      "cell_type": "code",
      "metadata": {
        "id": "PTYtKvu4fkDY",
        "colab_type": "code",
        "colab": {}
      },
      "source": [
        ""
      ],
      "execution_count": 0,
      "outputs": []
    }
  ]
}