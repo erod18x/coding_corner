{
  "nbformat": 4,
  "nbformat_minor": 0,
  "metadata": {
    "colab": {
      "name": "intro_to_python.ipynb",
      "version": "0.3.2",
      "provenance": [],
      "collapsed_sections": [],
      "include_colab_link": true
    },
    "kernelspec": {
      "name": "python3",
      "display_name": "Python 3"
    }
  },
  "cells": [
    {
      "cell_type": "markdown",
      "metadata": {
        "id": "view-in-github",
        "colab_type": "text"
      },
      "source": [
        "<a href=\"https://colab.research.google.com/github/erodg35/coding_corner/blob/master/intro_to_python.ipynb\" target=\"_parent\"><img src=\"https://colab.research.google.com/assets/colab-badge.svg\" alt=\"Open In Colab\"/></a>"
      ]
    },
    {
      "cell_type": "markdown",
      "metadata": {
        "id": "Rz6Wx-DgIoyC",
        "colab_type": "text"
      },
      "source": [
        "# Python\n",
        "Python is a popular programming language. It was created by Guido van Rossum, and released in 1991.\n",
        "\n",
        "It is used for:\n",
        "\n",
        "<li> Web Development and Software Development\n",
        "    <li>Uber, Google, Facebook, Pinterst\n",
        "<li> Mathematics\n",
        "    <li>Data Science, Data Analysis, Computations\n",
        "<li> System Scripting\n",
        "    <li>Cyber Security, File Handling\n",
        "\n",
        "##What can Python do?\n",
        "<li> Used to create and host web applications.\n",
        "<li> Alongside other software to create workflows.\n",
        "<li> Connect to database systems. Can also read and modify files.\n",
        "<li> Handle big data and perform complex mathematics.\n",
        "<li> Rapid prototyping, or for production-ready software development.\n",
        "\n",
        "##Why Python?\n",
        "<li> Works on different platforms (Windows, Mac, Linux, Raspberry Pi, etc).\n",
        "<li> Simple syntax similar to the English language.\n",
        "<li> Allows developers to write programs with fewer lines than some other programming languages.\n",
        "<li> Runs on an interpreter system, meaning that code can be executed as soon as it is written. Prototyping can be very quick.\n",
        "<li>Python can be treated in a procedural way, an object-orientated way or a functional way.\n",
        "\n",
        "##Good to know\n",
        "<li>The most recent major version is Python 3, which we use. Many tutorials exist for Python 2, although it is not being updated with anything other than security updates, is still quite popular, we <b>DO NOT RECOMMEND</b> Python 2\n",
        "<li>In this tutorial Python will be written in a text editor. It is possible to write Python in an Integrated Development Environment, such as Thonny, Pycharm, Netbeans or Eclipse which are particularly useful when managing larger collections of Python files.\n",
        "<li>Python Syntax compared to other programming languages\n",
        "<li>Python was designed for readability, and has some similarities to the English language with influence from mathematics.\n",
        "  \n",
        "  ##What We Will Learn\n",
        "  <li>Python Basics\n",
        "  <li>Extract Data from CSV and Excel\n",
        "  <li>Extract Data from the Internet\n",
        "  <li>Basic Web Design\n",
        "  <li>Display and Visualize Data\n",
        "  <li>What else do you want to learn?\n",
        "  "
      ]
    },
    {
      "cell_type": "markdown",
      "metadata": {
        "id": "r11vIaIBJKgv",
        "colab_type": "text"
      },
      "source": [
        "##Python Basics\n",
        "\n",
        "Python uses new lines to complete a command, as opposed to other programming languages which often use semicolons or parentheses. \n",
        "<li>An exception to the rule is parentheses which we will cover much later. \n",
        "\n",
        "Python relies on indentation, using whitespace, to define scope; such as the scope of loops, functions and classes. Other programming languages often use curly-brackets for this purpose.\n",
        "<li>Hint: Use the tab key for spacing indents, don't type the spaces manually\n",
        "\n",
        "###Variables\n",
        "Variables hold data to be used and reused in code without having to create it everytime. Variables can be all <b>lowercase</b>, all <b>UPERCASE</b>, with <b>under_scores</b>, or <b>CamelCase</b>\n",
        "\n",
        "<p>Examples:</p>\n",
        "<li>username = \"Steve\"\n",
        "<li>number = 4\n",
        " <li>decimal_number = 0.223\n",
        "   \n",
        " As a best practice, be consistent in your naming of variables. Use descriptive names so you don't become confused later, or someone you share your code with will not become confused. \n",
        "   \n",
        " <p>Examples of bad variable names are:<p>\n",
        " <li>x, y, something, var1, </li>\n",
        "   \n",
        " <p>Examples of good variable names:</p>\n",
        " <li>user_name, user_car_type, food_price, etc</li>\n",
        " "
      ]
    },
    {
      "cell_type": "markdown",
      "metadata": {
        "id": "7b_PLn0IYKpY",
        "colab_type": "text"
      },
      "source": [
        "###Types\n",
        "Python handles string (text),integers or ints (whole numbers), and decimals (floats)"
      ]
    },
    {
      "cell_type": "code",
      "metadata": {
        "id": "JrDXpMBOYMQq",
        "colab_type": "code",
        "colab": {}
      },
      "source": [
        "string_variable = \"Hello, I am a text, but you can use numbers too, like 1 2 3 4\"\n",
        "print(string_variable)"
      ],
      "execution_count": 0,
      "outputs": []
    },
    {
      "cell_type": "code",
      "metadata": {
        "id": "8Q1aLlE6YYX3",
        "colab_type": "code",
        "colab": {}
      },
      "source": [
        "whole_number = 4\n",
        "print(whole_number)"
      ],
      "execution_count": 0,
      "outputs": []
    },
    {
      "cell_type": "code",
      "metadata": {
        "id": "gfHu_Xn6YVX_",
        "colab_type": "code",
        "colab": {}
      },
      "source": [
        "float_number = 0.22\n",
        "print(float_number)"
      ],
      "execution_count": 0,
      "outputs": []
    },
    {
      "cell_type": "markdown",
      "metadata": {
        "id": "JMwDWna6YhWW",
        "colab_type": "text"
      },
      "source": [
        "###Conditionals\n",
        "\n",
        "If, else, and elif evaluates if a condution is true or false\n",
        "\n",
        "Double equal signs == is used for evaulation, others us greater than (>), less than (<), greater than or equal to (>=), less than or equal to (<=)\n",
        "\n",
        "if evaluates for one condition only\n",
        "\n",
        "else will return a result if the first condition evaluates to to false\n",
        "\n",
        "elif will allow you to add an addtionaly condition to evaluate for"
      ]
    },
    {
      "cell_type": "code",
      "metadata": {
        "id": "Z5c2lSR3YjX5",
        "colab_type": "code",
        "colab": {}
      },
      "source": [
        "if \"apples\" == \"apples\":\n",
        "  print(\"Apples are delicious\")"
      ],
      "execution_count": 0,
      "outputs": []
    },
    {
      "cell_type": "code",
      "metadata": {
        "id": "siger0NTZvLP",
        "colab_type": "code",
        "colab": {}
      },
      "source": [
        "if \"oranges\" == \"apples\":\n",
        "  print(\"Apples are delicious\")\n",
        "else:\n",
        "  print(\"Oranges are much better than Apples\")"
      ],
      "execution_count": 0,
      "outputs": []
    },
    {
      "cell_type": "code",
      "metadata": {
        "id": "2cX7zkXaaIcv",
        "colab_type": "code",
        "outputId": "3fc0514d-ffe6-4092-deb8-e82c95d62c06",
        "colab": {
          "base_uri": "https://localhost:8080/",
          "height": 34
        }
      },
      "source": [
        "orange_count = 3\n",
        "grape_count = 5\n",
        "\n",
        "if orange_count < 2:\n",
        "  print(\"We need more oranges\")\n",
        "elif grape_count > orange_count:\n",
        "  print(\"There are more grapes than oranges\")\n",
        "else:\n",
        "  print(\"Where are the fruits?\")"
      ],
      "execution_count": 0,
      "outputs": [
        {
          "output_type": "stream",
          "text": [
            "There are more grapes than oranges\n"
          ],
          "name": "stdout"
        }
      ]
    }
  ]
}