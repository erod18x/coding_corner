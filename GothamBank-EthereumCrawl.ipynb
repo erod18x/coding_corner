{
 "cells": [
  {
   "cell_type": "code",
   "execution_count": 2,
   "metadata": {},
   "outputs": [],
   "source": [
    "#to read data from webpages\n",
    "from bs4 import BeautifulSoup as bs\n",
    "\n",
    "#to make calls to the internet\n",
    "import requests\n",
    "\n",
    "#for reading and exporting tabular date (Excel / CSV)\n",
    "import pandas as pd\n",
    "import time, random\n",
    "\n",
    "\"\"\"\n",
    "Import database for storage\n",
    "Script Created with GothamStorage\n",
    "Seed_accounts: account_address (UNQIUE, PRIMARY KEY), account_username, crawled (yes or no)\n",
    "Transactions: account_address (foreign_key), transaction_hash, from, to, block, value\n",
    "\"\"\"\n",
    "import sqlite3"
   ]
  },
  {
   "cell_type": "code",
   "execution_count": 3,
   "metadata": {},
   "outputs": [
    {
     "name": "stdout",
     "output_type": "stream",
     "text": [
      "https://etherscan.io/accounts/1\n"
     ]
    }
   ],
   "source": [
    "\"\"\"\n",
    "Grab all the addresses links in order to do one link depth page from Top Accounts Page(s)\n",
    "Store Seeds into seed table\n",
    "will need to check transactions (to / from) for new addresses, if a new address appears, \n",
    "it needs to be appended to seed_accounts\n",
    "\"\"\"\n",
    "page_num = 0\n",
    "data = []\n",
    "\n",
    "#Question: Evaluate loop to end or use condition to loop through pages?\n",
    "\n",
    "while page_num <= 0:\n",
    "    page_num += 1\n",
    "    url = 'https://etherscan.io/accounts/' + str(page_num)\n",
    "    \n",
    "    #print URL for verification in process\n",
    "    print(url)\n",
    "\n",
    "    site = requests.get(url)\n",
    "    site.encoding = 'utf-8'\n",
    "    soup = bs(site.text,'lxml')\n",
    "\n",
    "    #data is stored in HTML table\n",
    "    content = soup.find('tbody')\n",
    "\n",
    "    rows = content.find_all('tr')\n",
    "    for row in rows:\n",
    "        #grab all cells in the table from the webpage(s)\n",
    "        cells = row.find_all('td')\n",
    "        \n",
    "        #account rank\n",
    "        rank = cells[0].text\n",
    "        \n",
    "        #account image (not neccessary)\n",
    "        something = cells[1].text\n",
    "        \n",
    "        #account address. Example: 0xc02aaa39b223fe8d0a0e5c4f27ead9083c756cc2\n",
    "        address = cells[2].text\n",
    "        \n",
    "        #account user name associated to account address\n",
    "        name = cells[3].text\n",
    "        \n",
    "        #balance of account\n",
    "        balance = cells[4].text\n",
    "        \n",
    "        percentage = cells[5].text\n",
    "        \n",
    "        #transactions taken place\n",
    "        txcount = cells[6].text\n",
    "\n",
    "        #append all data scraped in order to scrape each account page\n",
    "        data.append([rank,address,name,balance,percentage,txcount])"
   ]
  },
  {
   "cell_type": "code",
   "execution_count": 4,
   "metadata": {},
   "outputs": [],
   "source": [
    "#create new DF of Seeds (Top 10,000 Accounts) for CSV export\n",
    "data_df = pd.DataFrame(data)\n",
    "\n",
    "#Rename Column Names\n",
    "data_df.rename(columns={0:'rank',1:'address',2:'name',3:'balance',4:'percentage',5:'txcount'},inplace=True)\n",
    "#data_df"
   ]
  },
  {
   "cell_type": "code",
   "execution_count": 5,
   "metadata": {},
   "outputs": [],
   "source": [
    "#Store Addresses into table in order to keep record of crawl status"
   ]
  },
  {
   "cell_type": "code",
   "execution_count": 6,
   "metadata": {},
   "outputs": [
    {
     "data": {
      "text/plain": [
       "'\\n#Visit address, find link of all transactions\\n#all transactions link example: \\n## User Wallet Page:       https://etherscan.io/address/0xc02aaa39b223fe8d0a0e5c4f27ead9083c756cc2\\n### Manipulate the link to match Transactions Link\\n## All Transactions Page(s): https://etherscan.io/txs?a=0xc02aaa39b223fe8d0a0e5c4f27ead9083c756cc2\\n'"
      ]
     },
     "execution_count": 6,
     "metadata": {},
     "output_type": "execute_result"
    }
   ],
   "source": [
    "\"\"\"\n",
    "#Visit address, find link of all transactions\n",
    "#all transactions link example: \n",
    "## User Wallet Page:       https://etherscan.io/address/0xc02aaa39b223fe8d0a0e5c4f27ead9083c756cc2\n",
    "### Manipulate the link to match Transactions Link\n",
    "## All Transactions Page(s): https://etherscan.io/txs?a=0xc02aaa39b223fe8d0a0e5c4f27ead9083c756cc2\n",
    "\"\"\""
   ]
  },
  {
   "cell_type": "code",
   "execution_count": 7,
   "metadata": {},
   "outputs": [],
   "source": [
    "#Create address list from seeds\n",
    "address_list = data_df['address']"
   ]
  },
  {
   "cell_type": "code",
   "execution_count": 24,
   "metadata": {},
   "outputs": [
    {
     "name": "stdout",
     "output_type": "stream",
     "text": [
      "https://etherscan.io/address/0xc02aaa39b223fe8d0a0e5c4f27ead9083c756cc2\n"
     ]
    },
    {
     "ename": "KeyError",
     "evalue": "0",
     "output_type": "error",
     "traceback": [
      "\u001b[0;31m---------------------------------------------------------------------------\u001b[0m",
      "\u001b[0;31mKeyError\u001b[0m                                  Traceback (most recent call last)",
      "\u001b[0;32m<ipython-input-24-0e4b569b1d82>\u001b[0m in \u001b[0;36m<module>\u001b[0;34m\u001b[0m\n\u001b[1;32m     31\u001b[0m     \u001b[0;32mfor\u001b[0m \u001b[0mcell\u001b[0m \u001b[0;32min\u001b[0m \u001b[0mtxns_cells\u001b[0m\u001b[0;34m:\u001b[0m\u001b[0;34m\u001b[0m\u001b[0;34m\u001b[0m\u001b[0m\n\u001b[1;32m     32\u001b[0m         \u001b[0;31m#print(cell.text)\u001b[0m\u001b[0;34m\u001b[0m\u001b[0;34m\u001b[0m\u001b[0;34m\u001b[0m\u001b[0m\n\u001b[0;32m---> 33\u001b[0;31m         \u001b[0mtxns_hash\u001b[0m \u001b[0;34m=\u001b[0m \u001b[0mcell\u001b[0m\u001b[0;34m[\u001b[0m\u001b[0;36m0\u001b[0m\u001b[0;34m]\u001b[0m\u001b[0;34m.\u001b[0m\u001b[0mtext\u001b[0m\u001b[0;34m\u001b[0m\u001b[0;34m\u001b[0m\u001b[0m\n\u001b[0m\u001b[1;32m     34\u001b[0m         \u001b[0;31m#txns_from =\u001b[0m\u001b[0;34m\u001b[0m\u001b[0;34m\u001b[0m\u001b[0;34m\u001b[0m\u001b[0m\n\u001b[1;32m     35\u001b[0m         \u001b[0;31m#txns_to =\u001b[0m\u001b[0;34m\u001b[0m\u001b[0;34m\u001b[0m\u001b[0;34m\u001b[0m\u001b[0m\n",
      "\u001b[0;32m~/anaconda3/lib/python3.6/site-packages/bs4/element.py\u001b[0m in \u001b[0;36m__getitem__\u001b[0;34m(self, key)\u001b[0m\n\u001b[1;32m   1014\u001b[0m         \"\"\"tag[key] returns the value of the 'key' attribute for the tag,\n\u001b[1;32m   1015\u001b[0m         and throws an exception if it's not there.\"\"\"\n\u001b[0;32m-> 1016\u001b[0;31m         \u001b[0;32mreturn\u001b[0m \u001b[0mself\u001b[0m\u001b[0;34m.\u001b[0m\u001b[0mattrs\u001b[0m\u001b[0;34m[\u001b[0m\u001b[0mkey\u001b[0m\u001b[0;34m]\u001b[0m\u001b[0;34m\u001b[0m\u001b[0;34m\u001b[0m\u001b[0m\n\u001b[0m\u001b[1;32m   1017\u001b[0m \u001b[0;34m\u001b[0m\u001b[0m\n\u001b[1;32m   1018\u001b[0m     \u001b[0;32mdef\u001b[0m \u001b[0m__iter__\u001b[0m\u001b[0;34m(\u001b[0m\u001b[0mself\u001b[0m\u001b[0;34m)\u001b[0m\u001b[0;34m:\u001b[0m\u001b[0;34m\u001b[0m\u001b[0;34m\u001b[0m\u001b[0m\n",
      "\u001b[0;31mKeyError\u001b[0m: 0"
     ]
    }
   ],
   "source": [
    "\"\"\"\n",
    "Grab each address to do 1 link depth of contents\n",
    "Build list for pages scraped and pages not yet scraped\n",
    "\n",
    "Loop through last page of transactions. If page is blank, End Loop. \n",
    "\n",
    "\"\"\"\n",
    "\n",
    "page_count = 3\n",
    "for address in address_list[[0]]:\n",
    "    seed_address_url = 'https://etherscan.io/address/' + address\n",
    "    print(seed_address_url)\n",
    "    \n",
    "    if page_count == 1:\n",
    "        all_transactions_link = 'https://etherscan.io/txs?a=' + address\n",
    "    else: \n",
    "        all_transactions_link = 'https://etherscan.io/txs?a=' + address + '&p=' + str(page_count)\n",
    "    \n",
    "    #txns = transactions     \n",
    "    txns_page = requests.get(all_transactions_link)\n",
    "    txns_page.encoding = 'utf-8'\n",
    "    txns_soup = bs(txns_page.text,'lxml')\n",
    "    \n",
    "    txns_table = txns_soup.find('tbody')\n",
    "    \n",
    "    txns_cells = txns_table.find_all('td')\n",
    "    \n",
    "    #Blank list to append transactions\n",
    "    txns_list = []\n",
    "    \n",
    "    for cell in txns_cells:\n",
    "        #print(cell.text)\n",
    "        txns_hash = cell[0].text\n",
    "        #txns_from =\n",
    "        #txns_to = \n",
    "        #txns_block = \n",
    "        #txns_value = \n",
    "    \n",
    "        print(txns_hash)"
   ]
  },
  {
   "cell_type": "code",
   "execution_count": 24,
   "metadata": {},
   "outputs": [],
   "source": [
    "\"\"\"\n",
    "Export Seeds to CSV\n",
    "#data_df.to_csv('ethereum_seed_data.csv')\n",
    "\n",
    "#Export 1 hop content\n",
    "\n",
    "#Export Transactions / 1 export per wallet\n",
    "#TxHash, From, To, Block, Value\n",
    "\n",
    "#Export 2 hop content\n",
    "\"\"\""
   ]
  }
 ],
 "metadata": {
  "kernelspec": {
   "display_name": "Python 3",
   "language": "python",
   "name": "python3"
  },
  "language_info": {
   "codemirror_mode": {
    "name": "ipython",
    "version": 3
   },
   "file_extension": ".py",
   "mimetype": "text/x-python",
   "name": "python",
   "nbconvert_exporter": "python",
   "pygments_lexer": "ipython3",
   "version": "3.6.8"
  }
 },
 "nbformat": 4,
 "nbformat_minor": 2
}
